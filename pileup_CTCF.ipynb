{
 "cells": [
  {
   "cell_type": "markdown",
   "metadata": {},
   "source": [
    "# Pileups and average features"
   ]
  },
  {
   "cell_type": "markdown",
   "metadata": {},
   "source": [
    "Welcome to the cooltools pileups notebook!\n",
    " \n",
    "Averaging Hi-C/Micro-C maps allows the quantification of general patterns observed in the maps. Averaging comes in various forms: contact-vs-distance plots, saddle plots, and pileup plots. **Pileup plots** are the averaged local Hi-C map over the 2D windows (i.e. **snippets**). These are also referred to as \"average Hi-C maps\". Pileups can be useful for determining the relationship between features (e.g. CTCF and TAD boundaries). Pileups can also be beneficial for reliably observing features in low-coverage Hi-C or single-cell HiC maps.\n",
    "\n",
    "For pileups, we retrieve local windows that are centered at the **anchors**. We call this procedure **snipping**. Anchors can be ChIP-Seq binding sites, anchors of dots, or any other genomic features. Pileups come in two varieties: \n",
    "\n",
    "- **On-diagonal pileup**. Each window is centered at the pixel located at the anchor position, at the main diagonal. Both coordinates of the window center are equivalent to the bin of the anchor. \n",
    "- **Off-diagonal pileup**. Each window is centered at the pixel with one anchor as a left coordinate and another anchor as a right coordinate. \n",
    "\n",
    "Typically, the sizes of windows are equivalent. After the selection of windows, we average them elementwise. "
   ]
  },
  {
   "cell_type": "markdown",
   "metadata": {},
   "source": [
    "Content:\n",
    "\n",
    "1. Download data\n",
    "2. Load data\n",
    "    - Load genomic regions\n",
    "    - Load features for anchors\n",
    "3. On-diagonal pipeup of CTCF\n",
    "    - On-diagonal pileup of ICed Hi-C interactions\n",
    "    - On-diagonal pileup of observed over expected interactions\n",
    "    - Inspect the snips\n",
    "4. Off-diagonal pileup of CTCF"
   ]
  },
  {
   "cell_type": "code",
   "execution_count": 1,
   "metadata": {},
   "outputs": [],
   "source": [
    "# If you are a developer, you may want to reload the packages on a fly. \n",
    "# Jupyter has a magic for this particular purpose:\n",
    "%load_ext autoreload\n",
    "%autoreload 2"
   ]
  },
  {
   "cell_type": "code",
   "execution_count": 2,
   "metadata": {},
   "outputs": [],
   "source": [
    "# import standard python libraries\n",
    "import numpy as np\n",
    "import matplotlib.pyplot as plt\n",
    "import pandas as pd\n",
    "import seaborn as sns"
   ]
  },
  {
   "cell_type": "code",
   "execution_count": 3,
   "metadata": {},
   "outputs": [],
   "source": [
    "# import libraries for biological data analysis\n",
    "import cooler\n",
    "import bioframe\n",
    "\n",
    "import cooltools\n",
    "# import cooltools.expected\n",
    "# from cooltools import snipping"
   ]
  },
  {
   "cell_type": "markdown",
   "metadata": {},
   "source": [
    "## Download data\n",
    "\n",
    "For the test, we collected the data from [immortalized human foreskin fibroblast cell line HFFc6](https://data.4dnucleome.org/ontology-terms/EFO:0009318/):\n",
    "- Micro-C data from [Krietenstein et al. 2020](https://pubmed.ncbi.nlm.nih.gov/32213324/)\n",
    "- ChIP-Seq for CTCF from [ENCODE ENCSR000DWQ](https://www.encodeproject.org/experiments/ENCSR000DWQ/)\n",
    "\n",
    "You can automatically download test datasets with cooltools. More information on the files and how they were obtained is available from the datasets description. \n"
   ]
  },
  {
   "cell_type": "code",
   "execution_count": 4,
   "metadata": {},
   "outputs": [
    {
     "name": "stdout",
     "output_type": "stream",
     "text": [
      "1) HFF_MicroC : Micro-C data from HFF human cells for two chromosomes (hg38) in a multi-resolution mcool format. \n",
      "\tDownloaded from https://osf.io/3h9js/download \n",
      "\tStored as test.mcool \n",
      "\tOriginal md5sum: e4a0fc25c8dc3d38e9065fd74c565dd1\n",
      "\n",
      "2) HFF_CTCF_fc : ChIP-Seq fold change over input with CTCF antibodies in HFF cells (hg38). Downloaded from ENCODE ENCSR000DWQ, ENCFF761RHS.bigWig file \n",
      "\tDownloaded from https://osf.io/w92u3/download \n",
      "\tStored as test_CTCF.bigWig \n",
      "\tOriginal md5sum: 62429de974b5b4a379578cc85adc65a3\n",
      "\n",
      "3) HFF_CTCF_binding : Binding sites called from CTCF ChIP-Seq peaks for HFF cells (hg38). Peaks are from ENCODE ENCSR000DWQ, ENCFF498QCT.bed file. The motifs are called with gimmemotifs (options --nreport 1 --cutoff 0), with JASPAR pwm MA0139. \n",
      "\tDownloaded from https://osf.io/c9pwe/download \n",
      "\tStored as test_CTCF.bed.gz \n",
      "\tOriginal md5sum: 61ecfdfa821571a8e0ea362e8fd48f63\n",
      "\n"
     ]
    }
   ],
   "source": [
    "# Print available datasets for download\n",
    "cooltools.print_available_datasets()"
   ]
  },
  {
   "cell_type": "code",
   "execution_count": 5,
   "metadata": {},
   "outputs": [],
   "source": [
    "# Downloading test data for pileups\n",
    "# cache = True will doanload the data only if it was not previously downloaded\n",
    "# data_dir=\"./\" will force download to the current directory\n",
    "cool_file = cooltools.download_data(\"HFF_MicroC\", cache=True, data_dir='./')\n",
    "ctcf_peaks_file = cooltools.download_data(\"HFF_CTCF_binding\", cache=True, data_dir='./')\n",
    "ctcf_fc_file = cooltools.download_data(\"HFF_CTCF_fc\", cache=True, data_dir='./')"
   ]
  },
  {
   "cell_type": "markdown",
   "metadata": {},
   "source": [
    "## Load data"
   ]
  },
  {
   "cell_type": "markdown",
   "metadata": {},
   "source": [
    "### Load genomic regions\n",
    "\n",
    "The pileup function needs **genomic regions**. Why?\n",
    "\n",
    "- First, the pileup uses regions for parallelization of snipping. Different genomic regions are loaded simultaneously by different processes, and the snipping can be done in parallel. \n",
    "- Second, one particular type of pileup, observed over expected pileup, requires calculating expected interactions before snipping (P(s), in other words). Typically, you want to calculate P(s) for each chromosome arm separately and not to include the interactions between chromosome arms. Inter-arms interactions might be affected by strong insulation of centromeres or Rabl configuration). \n",
    "\n",
    "For species that do not have information on chromosome arms, or have *telocentric chromosomes* (e.g., mouse), you may want to use full chromosomes instead. "
   ]
  },
  {
   "cell_type": "code",
   "execution_count": 6,
   "metadata": {},
   "outputs": [],
   "source": [
    "# Open cool file with Micro-C data:\n",
    "clr = cooler.Cooler('./test.mcool::/resolutions/10000')\n",
    "# Set up selected data resolution:\n",
    "resolution = clr.binsize"
   ]
  },
  {
   "cell_type": "code",
   "execution_count": 7,
   "metadata": {},
   "outputs": [],
   "source": [
    "# Use bioframe to fetch the genomic features from the UCSC.\n",
    "hg38_chromsizes = bioframe.fetch_chromsizes('hg38')\n",
    "hg38_cens = bioframe.fetch_centromeres('hg38')\n",
    "hg38_arms = bioframe.make_chromarms(hg38_chromsizes, hg38_cens)\n",
    "\n",
    "# Select only chromosomes that are present in the cooler. \n",
    "# This step is typically not required! we call it only because the test data are reduced. \n",
    "hg38_arms = hg38_arms.set_index(\"chrom\").loc[clr.chromnames].reset_index()"
   ]
  },
  {
   "cell_type": "markdown",
   "metadata": {},
   "source": [
    "### Load features for anchors\n",
    "\n",
    "Construction of the pileup requires  genomic **features** that will be used for centering of the **snippets**. In this example, we will use *positions of motifs in CTCF peaks* as features. "
   ]
  },
  {
   "cell_type": "code",
   "execution_count": 8,
   "metadata": {
    "scrolled": true
   },
   "outputs": [
    {
     "data": {
      "text/html": [
       "<div>\n",
       "<style scoped>\n",
       "    .dataframe tbody tr th:only-of-type {\n",
       "        vertical-align: middle;\n",
       "    }\n",
       "\n",
       "    .dataframe tbody tr th {\n",
       "        vertical-align: top;\n",
       "    }\n",
       "\n",
       "    .dataframe thead th {\n",
       "        text-align: right;\n",
       "    }\n",
       "</style>\n",
       "<table border=\"1\" class=\"dataframe\">\n",
       "  <thead>\n",
       "    <tr style=\"text-align: right;\">\n",
       "      <th></th>\n",
       "      <th>chrom</th>\n",
       "      <th>start</th>\n",
       "      <th>end</th>\n",
       "      <th>name</th>\n",
       "      <th>score</th>\n",
       "      <th>strand</th>\n",
       "      <th>mid</th>\n",
       "    </tr>\n",
       "  </thead>\n",
       "  <tbody>\n",
       "    <tr>\n",
       "      <th>17271</th>\n",
       "      <td>chr17</td>\n",
       "      <td>118485</td>\n",
       "      <td>118504</td>\n",
       "      <td>MA0139.1_CTCF_human</td>\n",
       "      <td>12.384042</td>\n",
       "      <td>-</td>\n",
       "      <td>118494</td>\n",
       "    </tr>\n",
       "    <tr>\n",
       "      <th>17272</th>\n",
       "      <td>chr17</td>\n",
       "      <td>144002</td>\n",
       "      <td>144021</td>\n",
       "      <td>MA0139.1_CTCF_human</td>\n",
       "      <td>11.542617</td>\n",
       "      <td>+</td>\n",
       "      <td>144011</td>\n",
       "    </tr>\n",
       "    <tr>\n",
       "      <th>17273</th>\n",
       "      <td>chr17</td>\n",
       "      <td>163676</td>\n",
       "      <td>163695</td>\n",
       "      <td>MA0139.1_CTCF_human</td>\n",
       "      <td>5.294219</td>\n",
       "      <td>-</td>\n",
       "      <td>163685</td>\n",
       "    </tr>\n",
       "    <tr>\n",
       "      <th>17274</th>\n",
       "      <td>chr17</td>\n",
       "      <td>164711</td>\n",
       "      <td>164730</td>\n",
       "      <td>MA0139.1_CTCF_human</td>\n",
       "      <td>11.889376</td>\n",
       "      <td>+</td>\n",
       "      <td>164720</td>\n",
       "    </tr>\n",
       "    <tr>\n",
       "      <th>17275</th>\n",
       "      <td>chr17</td>\n",
       "      <td>309416</td>\n",
       "      <td>309435</td>\n",
       "      <td>MA0139.1_CTCF_human</td>\n",
       "      <td>7.879575</td>\n",
       "      <td>-</td>\n",
       "      <td>309425</td>\n",
       "    </tr>\n",
       "  </tbody>\n",
       "</table>\n",
       "</div>"
      ],
      "text/plain": [
       "       chrom   start     end                 name      score strand     mid\n",
       "17271  chr17  118485  118504  MA0139.1_CTCF_human  12.384042      -  118494\n",
       "17272  chr17  144002  144021  MA0139.1_CTCF_human  11.542617      +  144011\n",
       "17273  chr17  163676  163695  MA0139.1_CTCF_human   5.294219      -  163685\n",
       "17274  chr17  164711  164730  MA0139.1_CTCF_human  11.889376      +  164720\n",
       "17275  chr17  309416  309435  MA0139.1_CTCF_human   7.879575      -  309425"
      ]
     },
     "execution_count": 8,
     "metadata": {},
     "output_type": "execute_result"
    }
   ],
   "source": [
    "# Read CTCF peaks data and select only chromosomes present in cooler:\n",
    "ctcf = bioframe.read_table(ctcf_peaks_file, schema='bed').query(f'chrom in {clr.chromnames}')\n",
    "ctcf['mid'] = (ctcf.end+ctcf.start)//2\n",
    "ctcf.head()"
   ]
  },
  {
   "cell_type": "markdown",
   "metadata": {},
   "source": [
    "#### Feature inspection and filtering\n",
    "\n",
    "Since we have both the list of strongest motifs of CTCF located in CTCF ChIP-Seq and the fold change over input for the genome, we have two characteristics of each feature: \n",
    "- score of the motif\n",
    "- CTCF ChIP-Seq fold-change over input\n",
    "\n",
    "Let's take a look at joint distribution of these scores: "
   ]
  },
  {
   "cell_type": "code",
   "execution_count": 9,
   "metadata": {},
   "outputs": [],
   "source": [
    "import bbi\n",
    "from scipy.stats import linregress"
   ]
  },
  {
   "cell_type": "code",
   "execution_count": 10,
   "metadata": {},
   "outputs": [],
   "source": [
    "# Get CTCF ChIP-Seq fold-change over input for genomic regions centered at the positions of the motifs\n",
    "\n",
    "flank = 250 # Length of flank to one side from the boundary, in basepairs\n",
    "ctcf_chip_signal = bbi.stackup(\n",
    "    ctcf_fc_file, \n",
    "    ctcf.chrom, \n",
    "    ctcf.mid-flank, \n",
    "    ctcf.mid+flank, \n",
    "    bins=1)\n",
    "\n",
    "ctcf['FC_score'] = ctcf_chip_signal"
   ]
  },
  {
   "cell_type": "code",
   "execution_count": 11,
   "metadata": {},
   "outputs": [],
   "source": [
    "ctcf['quartile_score']    = pd.qcut(ctcf['score'], 4, labels=False) + 1\n",
    "ctcf['quartile_FC_score'] = pd.qcut(ctcf['FC_score'], 4, labels=False) + 1\n",
    "ctcf['peaks_importance'] = ctcf.apply(\n",
    "    lambda x: 'Top by both scores' if x.quartile_score==4 and x.quartile_FC_score==4 else\n",
    "                'Top by Motif score' if x.quartile_score==4 else\n",
    "                'Top by FC score' if x.quartile_FC_score==4 else 'Ordinary peaks', axis=1\n",
    ")"
   ]
  },
  {
   "cell_type": "code",
   "execution_count": 12,
   "metadata": {},
   "outputs": [
    {
     "name": "stderr",
     "output_type": "stream",
     "text": [
      "/home/sergpolly/miniconda3/envs/devcool/lib/python3.8/site-packages/seaborn/_decorators.py:36: FutureWarning: Pass the following variables as keyword args: x, y. From version 0.12, the only valid positional argument will be `data`, and passing other arguments without an explicit keyword will result in an error or misinterpretation.\n",
      "  warnings.warn(\n"
     ]
    },
    {
     "data": {
      "image/png": "[encoded data removed]",
      "text/plain": [
       "<Figure size 432x288 with 1 Axes>"
      ]
     },
     "metadata": {
      "needs_background": "light"
     },
     "output_type": "display_data"
    }
   ],
   "source": [
    "x = ctcf['score']\n",
    "y = np.log(ctcf['FC_score'])\n",
    "\n",
    "fig, ax = plt.subplots()\n",
    "\n",
    "sns.scatterplot(x, y, hue=ctcf['peaks_importance'],\n",
    "    s=2,\n",
    "    alpha=0.5,\n",
    "    label='All peaks', \n",
    "    ax=ax\n",
    ")\n",
    "\n",
    "slope, intercept, r, p, se = linregress(x, y)\n",
    "\n",
    "ax.plot([-6, 19], [intercept-6*slope, intercept+19*slope], \n",
    "        alpha=0.5,\n",
    "        color='black',\n",
    "        label=f\"Regression line, R value: {r:.2f}\")\n",
    "\n",
    "ax.set(\n",
    "    xlabel='Motif score',\n",
    "    ylabel='ChIP-Seq fold-change over input')\n",
    "\n",
    "ax.legend(bbox_to_anchor=(1.01,1), loc=\"upper left\")\n",
    "\n",
    "plt.show()"
   ]
  },
  {
   "cell_type": "code",
   "execution_count": 13,
   "metadata": {},
   "outputs": [
    {
     "data": {
      "text/html": [
       "<div>\n",
       "<style scoped>\n",
       "    .dataframe tbody tr th:only-of-type {\n",
       "        vertical-align: middle;\n",
       "    }\n",
       "\n",
       "    .dataframe tbody tr th {\n",
       "        vertical-align: top;\n",
       "    }\n",
       "\n",
       "    .dataframe thead th {\n",
       "        text-align: right;\n",
       "    }\n",
       "</style>\n",
       "<table border=\"1\" class=\"dataframe\">\n",
       "  <thead>\n",
       "    <tr style=\"text-align: right;\">\n",
       "      <th></th>\n",
       "      <th>chrom</th>\n",
       "      <th>start</th>\n",
       "      <th>end</th>\n",
       "      <th>name</th>\n",
       "      <th>score</th>\n",
       "      <th>strand</th>\n",
       "      <th>mid</th>\n",
       "      <th>FC_score</th>\n",
       "      <th>quartile_score</th>\n",
       "      <th>quartile_FC_score</th>\n",
       "      <th>peaks_importance</th>\n",
       "    </tr>\n",
       "  </thead>\n",
       "  <tbody>\n",
       "    <tr>\n",
       "      <th>659</th>\n",
       "      <td>chr17</td>\n",
       "      <td>8158938</td>\n",
       "      <td>8158957</td>\n",
       "      <td>MA0139.1_CTCF_human</td>\n",
       "      <td>13.276979</td>\n",
       "      <td>-</td>\n",
       "      <td>8158947</td>\n",
       "      <td>25.056849</td>\n",
       "      <td>4</td>\n",
       "      <td>4</td>\n",
       "      <td>Top by both scores</td>\n",
       "    </tr>\n",
       "    <tr>\n",
       "      <th>660</th>\n",
       "      <td>chr2</td>\n",
       "      <td>176127201</td>\n",
       "      <td>176127220</td>\n",
       "      <td>MA0139.1_CTCF_human</td>\n",
       "      <td>12.820343</td>\n",
       "      <td>+</td>\n",
       "      <td>176127210</td>\n",
       "      <td>25.027294</td>\n",
       "      <td>4</td>\n",
       "      <td>4</td>\n",
       "      <td>Top by both scores</td>\n",
       "    </tr>\n",
       "    <tr>\n",
       "      <th>661</th>\n",
       "      <td>chr17</td>\n",
       "      <td>38322364</td>\n",
       "      <td>38322383</td>\n",
       "      <td>MA0139.1_CTCF_human</td>\n",
       "      <td>13.534864</td>\n",
       "      <td>-</td>\n",
       "      <td>38322373</td>\n",
       "      <td>25.010430</td>\n",
       "      <td>4</td>\n",
       "      <td>4</td>\n",
       "      <td>Top by both scores</td>\n",
       "    </tr>\n",
       "    <tr>\n",
       "      <th>662</th>\n",
       "      <td>chr2</td>\n",
       "      <td>119265336</td>\n",
       "      <td>119265355</td>\n",
       "      <td>MA0139.1_CTCF_human</td>\n",
       "      <td>13.739862</td>\n",
       "      <td>-</td>\n",
       "      <td>119265345</td>\n",
       "      <td>24.980141</td>\n",
       "      <td>4</td>\n",
       "      <td>4</td>\n",
       "      <td>Top by both scores</td>\n",
       "    </tr>\n",
       "    <tr>\n",
       "      <th>663</th>\n",
       "      <td>chr2</td>\n",
       "      <td>118003514</td>\n",
       "      <td>118003533</td>\n",
       "      <td>MA0139.1_CTCF_human</td>\n",
       "      <td>12.646685</td>\n",
       "      <td>-</td>\n",
       "      <td>118003523</td>\n",
       "      <td>24.957502</td>\n",
       "      <td>4</td>\n",
       "      <td>4</td>\n",
       "      <td>Top by both scores</td>\n",
       "    </tr>\n",
       "  </tbody>\n",
       "</table>\n",
       "</div>"
      ],
      "text/plain": [
       "     chrom      start        end                 name      score strand  \\\n",
       "659  chr17    8158938    8158957  MA0139.1_CTCF_human  13.276979      -   \n",
       "660   chr2  176127201  176127220  MA0139.1_CTCF_human  12.820343      +   \n",
       "661  chr17   38322364   38322383  MA0139.1_CTCF_human  13.534864      -   \n",
       "662   chr2  119265336  119265355  MA0139.1_CTCF_human  13.739862      -   \n",
       "663   chr2  118003514  118003533  MA0139.1_CTCF_human  12.646685      -   \n",
       "\n",
       "           mid   FC_score  quartile_score  quartile_FC_score  \\\n",
       "659    8158947  25.056849               4                  4   \n",
       "660  176127210  25.027294               4                  4   \n",
       "661   38322373  25.010430               4                  4   \n",
       "662  119265345  24.980141               4                  4   \n",
       "663  118003523  24.957502               4                  4   \n",
       "\n",
       "       peaks_importance  \n",
       "659  Top by both scores  \n",
       "660  Top by both scores  \n",
       "661  Top by both scores  \n",
       "662  Top by both scores  \n",
       "663  Top by both scores  "
      ]
     },
     "execution_count": 13,
     "metadata": {},
     "output_type": "execute_result"
    }
   ],
   "source": [
    "# Select the CTCF sites that are in top quartile by both the ChIP-Seq data and motif score\n",
    "\n",
    "sites = ctcf[ctcf['peaks_importance']=='Top by both scores']\\\n",
    "    .sort_values('FC_score', ascending=False)\\\n",
    "    .reset_index(drop=True)\n",
    "sites.tail()"
   ]
  },
  {
   "cell_type": "code",
   "execution_count": 14,
   "metadata": {},
   "outputs": [
    {
     "data": {
      "text/html": [
       "<div>\n",
       "<style scoped>\n",
       "    .dataframe tbody tr th:only-of-type {\n",
       "        vertical-align: middle;\n",
       "    }\n",
       "\n",
       "    .dataframe tbody tr th {\n",
       "        vertical-align: top;\n",
       "    }\n",
       "\n",
       "    .dataframe thead th {\n",
       "        text-align: right;\n",
       "    }\n",
       "</style>\n",
       "<table border=\"1\" class=\"dataframe\">\n",
       "  <thead>\n",
       "    <tr style=\"text-align: right;\">\n",
       "      <th></th>\n",
       "      <th>chrom</th>\n",
       "      <th>start</th>\n",
       "      <th>end</th>\n",
       "      <th>name</th>\n",
       "      <th>score</th>\n",
       "      <th>strand</th>\n",
       "      <th>mid</th>\n",
       "      <th>FC_score</th>\n",
       "      <th>quartile_score</th>\n",
       "      <th>quartile_FC_score</th>\n",
       "      <th>peaks_importance</th>\n",
       "      <th>cluster</th>\n",
       "      <th>cluster_start</th>\n",
       "      <th>cluster_end</th>\n",
       "    </tr>\n",
       "  </thead>\n",
       "  <tbody>\n",
       "    <tr>\n",
       "      <th>608</th>\n",
       "      <td>chr17</td>\n",
       "      <td>8158938</td>\n",
       "      <td>8158957</td>\n",
       "      <td>MA0139.1_CTCF_human</td>\n",
       "      <td>13.276979</td>\n",
       "      <td>-</td>\n",
       "      <td>8158947</td>\n",
       "      <td>25.056849</td>\n",
       "      <td>4</td>\n",
       "      <td>4</td>\n",
       "      <td>Top by both scores</td>\n",
       "      <td>34</td>\n",
       "      <td>8158938</td>\n",
       "      <td>8158957</td>\n",
       "    </tr>\n",
       "    <tr>\n",
       "      <th>609</th>\n",
       "      <td>chr2</td>\n",
       "      <td>176127201</td>\n",
       "      <td>176127220</td>\n",
       "      <td>MA0139.1_CTCF_human</td>\n",
       "      <td>12.820343</td>\n",
       "      <td>+</td>\n",
       "      <td>176127210</td>\n",
       "      <td>25.027294</td>\n",
       "      <td>4</td>\n",
       "      <td>4</td>\n",
       "      <td>Top by both scores</td>\n",
       "      <td>515</td>\n",
       "      <td>176127201</td>\n",
       "      <td>176127220</td>\n",
       "    </tr>\n",
       "    <tr>\n",
       "      <th>610</th>\n",
       "      <td>chr17</td>\n",
       "      <td>38322364</td>\n",
       "      <td>38322383</td>\n",
       "      <td>MA0139.1_CTCF_human</td>\n",
       "      <td>13.534864</td>\n",
       "      <td>-</td>\n",
       "      <td>38322373</td>\n",
       "      <td>25.010430</td>\n",
       "      <td>4</td>\n",
       "      <td>4</td>\n",
       "      <td>Top by both scores</td>\n",
       "      <td>104</td>\n",
       "      <td>38322364</td>\n",
       "      <td>38322383</td>\n",
       "    </tr>\n",
       "    <tr>\n",
       "      <th>611</th>\n",
       "      <td>chr2</td>\n",
       "      <td>119265336</td>\n",
       "      <td>119265355</td>\n",
       "      <td>MA0139.1_CTCF_human</td>\n",
       "      <td>13.739862</td>\n",
       "      <td>-</td>\n",
       "      <td>119265345</td>\n",
       "      <td>24.980141</td>\n",
       "      <td>4</td>\n",
       "      <td>4</td>\n",
       "      <td>Top by both scores</td>\n",
       "      <td>465</td>\n",
       "      <td>119265336</td>\n",
       "      <td>119265355</td>\n",
       "    </tr>\n",
       "    <tr>\n",
       "      <th>612</th>\n",
       "      <td>chr2</td>\n",
       "      <td>118003514</td>\n",
       "      <td>118003533</td>\n",
       "      <td>MA0139.1_CTCF_human</td>\n",
       "      <td>12.646685</td>\n",
       "      <td>-</td>\n",
       "      <td>118003523</td>\n",
       "      <td>24.957502</td>\n",
       "      <td>4</td>\n",
       "      <td>4</td>\n",
       "      <td>Top by both scores</td>\n",
       "      <td>462</td>\n",
       "      <td>118003514</td>\n",
       "      <td>118003533</td>\n",
       "    </tr>\n",
       "  </tbody>\n",
       "</table>\n",
       "</div>"
      ],
      "text/plain": [
       "     chrom      start        end                 name      score strand  \\\n",
       "608  chr17    8158938    8158957  MA0139.1_CTCF_human  13.276979      -   \n",
       "609   chr2  176127201  176127220  MA0139.1_CTCF_human  12.820343      +   \n",
       "610  chr17   38322364   38322383  MA0139.1_CTCF_human  13.534864      -   \n",
       "611   chr2  119265336  119265355  MA0139.1_CTCF_human  13.739862      -   \n",
       "612   chr2  118003514  118003533  MA0139.1_CTCF_human  12.646685      -   \n",
       "\n",
       "           mid   FC_score  quartile_score  quartile_FC_score  \\\n",
       "608    8158947  25.056849               4                  4   \n",
       "609  176127210  25.027294               4                  4   \n",
       "610   38322373  25.010430               4                  4   \n",
       "611  119265345  24.980141               4                  4   \n",
       "612  118003523  24.957502               4                  4   \n",
       "\n",
       "       peaks_importance  cluster  cluster_start  cluster_end  \n",
       "608  Top by both scores       34        8158938      8158957  \n",
       "609  Top by both scores      515      176127201    176127220  \n",
       "610  Top by both scores      104       38322364     38322383  \n",
       "611  Top by both scores      465      119265336    119265355  \n",
       "612  Top by both scores      462      118003514    118003533  "
      ]
     },
     "execution_count": 14,
     "metadata": {},
     "output_type": "execute_result"
    }
   ],
   "source": [
    "# Some CTCF sites might be located too close in the genome and interfere with analysis. \n",
    "# We will collapse the sites falling into the same size genomic bins as the resolution of our micro-C data:\n",
    "sites = bioframe.cluster(sites, min_dist=resolution)\\\n",
    "    .drop_duplicates('cluster')\\\n",
    "    .reset_index(drop=True)\n",
    "sites.tail()"
   ]
  },
  {
   "cell_type": "markdown",
   "metadata": {},
   "source": [
    "## On-diagonal pileup\n",
    "\n",
    "On-diagonal pileup is the simplest, you need the positions of **features** (middlepoints of CTCF motifs) and the size of flanks aroung each motif. cooltools will create a snippet of Hi-C map for each feature. Then you can combine them into a single 2D pileup. "
   ]
  },
  {
   "cell_type": "markdown",
   "metadata": {},
   "source": [
    "### On-diagonal pileup of ICed Hi-C interactions"
   ]
  },
  {
   "cell_type": "code",
   "execution_count": 15,
   "metadata": {},
   "outputs": [],
   "source": [
    "stack = cooltools.pileup(clr, sites, view_df=hg38_arms, flank=300_000)\n",
    "# Mirror reflect snippets when the feature is on the opposite strand\n",
    "mask = np.array(sites.strand == '-', dtype=bool)\n",
    "stack[:, :, mask] = stack[::-1, ::-1, mask]\n",
    "\n",
    "# Aggregate. Note that some pixels might be converted to NaNs after IC, thus we aggregate by nanmean: \n",
    "mtx = np.nanmean(stack, axis=2)"
   ]
  },
  {
   "cell_type": "code",
   "execution_count": 16,
   "metadata": {},
   "outputs": [],
   "source": [
    "# Load colormap with large number of distinguishable intermediary tones,\n",
    "# The \"fall\" colormap in cooltools is exactly for this purpose.\n",
    "# After this step, you can use \"fall\" as cmap parameter in matplotlib:\n",
    "import cooltools.lib.plotting"
   ]
  },
  {
   "cell_type": "code",
   "execution_count": 17,
   "metadata": {},
   "outputs": [
    {
     "name": "stderr",
     "output_type": "stream",
     "text": [
      "<ipython-input-17-7ac39527b4d5>:2: RuntimeWarning: divide by zero encountered in log10\n",
      "  np.log10(mtx),\n"
     ]
    },
    {
     "data": {
      "image/png": "[encoded data removed]",
      "text/plain": [
       "<Figure size 432x288 with 2 Axes>"
      ]
     },
     "metadata": {
      "needs_background": "light"
     },
     "output_type": "display_data"
    }
   ],
   "source": [
    "plt.imshow(\n",
    "    np.log10(mtx),\n",
    "    vmin = -3,\n",
    "    vmax = -1,\n",
    "    cmap='fall',\n",
    "    interpolation='none')\n",
    "\n",
    "plt.colorbar(label = 'log10 mean ICed Hi-C')\n",
    "ticks_pixels = np.linspace(0, flank*2//resolution,5)\n",
    "ticks_kbp = ((ticks_pixels-ticks_pixels[-1]/2)*resolution//1000).astype(int)\n",
    "plt.xticks(ticks_pixels, ticks_kbp)\n",
    "plt.yticks(ticks_pixels, ticks_kbp)\n",
    "plt.xlabel('relative position, kbp')\n",
    "plt.ylabel('relative position, kbp')\n",
    "\n",
    "plt.show()"
   ]
  },
  {
   "cell_type": "markdown",
   "metadata": {},
   "source": [
    "### On-diagonal pileup of observed over expected interactions\n",
    "\n",
    "Sometimes you don't want to include the **distance decay** P(s) in your pileups. For example, when you make comparison of pileups between experiments and they have different P(s). Even if these differences are slight, they might affect the pileup of raw ICed Hi-C interactions. \n",
    "\n",
    "In this case, the observed over expected pileup is your choice. Prior to running the pileup function, you need to calculate expected interactions for chromosome arms."
   ]
  },
  {
   "cell_type": "code",
   "execution_count": 18,
   "metadata": {},
   "outputs": [],
   "source": [
    "expected = cooltools.expected_cis(clr, view_df=hg38_arms, nproc=2, chunksize=1_000_000)"
   ]
  },
  {
   "cell_type": "code",
   "execution_count": 19,
   "metadata": {},
   "outputs": [
    {
     "data": {
      "text/html": [
       "<div>\n",
       "<style scoped>\n",
       "    .dataframe tbody tr th:only-of-type {\n",
       "        vertical-align: middle;\n",
       "    }\n",
       "\n",
       "    .dataframe tbody tr th {\n",
       "        vertical-align: top;\n",
       "    }\n",
       "\n",
       "    .dataframe thead th {\n",
       "        text-align: right;\n",
       "    }\n",
       "</style>\n",
       "<table border=\"1\" class=\"dataframe\">\n",
       "  <thead>\n",
       "    <tr style=\"text-align: right;\">\n",
       "      <th></th>\n",
       "      <th>region1</th>\n",
       "      <th>region2</th>\n",
       "      <th>dist</th>\n",
       "      <th>n_valid</th>\n",
       "      <th>count.sum</th>\n",
       "      <th>balanced.sum</th>\n",
       "      <th>count.avg</th>\n",
       "      <th>balanced.avg</th>\n",
       "    </tr>\n",
       "  </thead>\n",
       "  <tbody>\n",
       "    <tr>\n",
       "      <th>0</th>\n",
       "      <td>chr2_p</td>\n",
       "      <td>chr2_p</td>\n",
       "      <td>0</td>\n",
       "      <td>8771</td>\n",
       "      <td>NaN</td>\n",
       "      <td>NaN</td>\n",
       "      <td>NaN</td>\n",
       "      <td>NaN</td>\n",
       "    </tr>\n",
       "    <tr>\n",
       "      <th>1</th>\n",
       "      <td>chr2_p</td>\n",
       "      <td>chr2_p</td>\n",
       "      <td>1</td>\n",
       "      <td>8753</td>\n",
       "      <td>NaN</td>\n",
       "      <td>NaN</td>\n",
       "      <td>NaN</td>\n",
       "      <td>NaN</td>\n",
       "    </tr>\n",
       "    <tr>\n",
       "      <th>2</th>\n",
       "      <td>chr2_p</td>\n",
       "      <td>chr2_p</td>\n",
       "      <td>2</td>\n",
       "      <td>8745</td>\n",
       "      <td>2656738.0</td>\n",
       "      <td>406.013088</td>\n",
       "      <td>303.800800</td>\n",
       "      <td>0.046428</td>\n",
       "    </tr>\n",
       "    <tr>\n",
       "      <th>3</th>\n",
       "      <td>chr2_p</td>\n",
       "      <td>chr2_p</td>\n",
       "      <td>3</td>\n",
       "      <td>8741</td>\n",
       "      <td>1563363.0</td>\n",
       "      <td>237.585271</td>\n",
       "      <td>178.854021</td>\n",
       "      <td>0.027181</td>\n",
       "    </tr>\n",
       "    <tr>\n",
       "      <th>4</th>\n",
       "      <td>chr2_p</td>\n",
       "      <td>chr2_p</td>\n",
       "      <td>4</td>\n",
       "      <td>8738</td>\n",
       "      <td>1125674.0</td>\n",
       "      <td>169.308714</td>\n",
       "      <td>128.825132</td>\n",
       "      <td>0.019376</td>\n",
       "    </tr>\n",
       "    <tr>\n",
       "      <th>...</th>\n",
       "      <td>...</td>\n",
       "      <td>...</td>\n",
       "      <td>...</td>\n",
       "      <td>...</td>\n",
       "      <td>...</td>\n",
       "      <td>...</td>\n",
       "      <td>...</td>\n",
       "      <td>...</td>\n",
       "    </tr>\n",
       "    <tr>\n",
       "      <th>32543</th>\n",
       "      <td>chr17_q</td>\n",
       "      <td>chr17_q</td>\n",
       "      <td>5850</td>\n",
       "      <td>0</td>\n",
       "      <td>0.0</td>\n",
       "      <td>0.000000</td>\n",
       "      <td>NaN</td>\n",
       "      <td>NaN</td>\n",
       "    </tr>\n",
       "    <tr>\n",
       "      <th>32544</th>\n",
       "      <td>chr17_q</td>\n",
       "      <td>chr17_q</td>\n",
       "      <td>5851</td>\n",
       "      <td>0</td>\n",
       "      <td>0.0</td>\n",
       "      <td>0.000000</td>\n",
       "      <td>NaN</td>\n",
       "      <td>NaN</td>\n",
       "    </tr>\n",
       "    <tr>\n",
       "      <th>32545</th>\n",
       "      <td>chr17_q</td>\n",
       "      <td>chr17_q</td>\n",
       "      <td>5852</td>\n",
       "      <td>0</td>\n",
       "      <td>0.0</td>\n",
       "      <td>0.000000</td>\n",
       "      <td>NaN</td>\n",
       "      <td>NaN</td>\n",
       "    </tr>\n",
       "    <tr>\n",
       "      <th>32546</th>\n",
       "      <td>chr17_q</td>\n",
       "      <td>chr17_q</td>\n",
       "      <td>5853</td>\n",
       "      <td>0</td>\n",
       "      <td>0.0</td>\n",
       "      <td>0.000000</td>\n",
       "      <td>NaN</td>\n",
       "      <td>NaN</td>\n",
       "    </tr>\n",
       "    <tr>\n",
       "      <th>32547</th>\n",
       "      <td>chr17_q</td>\n",
       "      <td>chr17_q</td>\n",
       "      <td>5854</td>\n",
       "      <td>0</td>\n",
       "      <td>0.0</td>\n",
       "      <td>0.000000</td>\n",
       "      <td>NaN</td>\n",
       "      <td>NaN</td>\n",
       "    </tr>\n",
       "  </tbody>\n",
       "</table>\n",
       "<p>32548 rows × 8 columns</p>\n",
       "</div>"
      ],
      "text/plain": [
       "       region1  region2  dist  n_valid  count.sum  balanced.sum   count.avg  \\\n",
       "0       chr2_p   chr2_p     0     8771        NaN           NaN         NaN   \n",
       "1       chr2_p   chr2_p     1     8753        NaN           NaN         NaN   \n",
       "2       chr2_p   chr2_p     2     8745  2656738.0    406.013088  303.800800   \n",
       "3       chr2_p   chr2_p     3     8741  1563363.0    237.585271  178.854021   \n",
       "4       chr2_p   chr2_p     4     8738  1125674.0    169.308714  128.825132   \n",
       "...        ...      ...   ...      ...        ...           ...         ...   \n",
       "32543  chr17_q  chr17_q  5850        0        0.0      0.000000         NaN   \n",
       "32544  chr17_q  chr17_q  5851        0        0.0      0.000000         NaN   \n",
       "32545  chr17_q  chr17_q  5852        0        0.0      0.000000         NaN   \n",
       "32546  chr17_q  chr17_q  5853        0        0.0      0.000000         NaN   \n",
       "32547  chr17_q  chr17_q  5854        0        0.0      0.000000         NaN   \n",
       "\n",
       "       balanced.avg  \n",
       "0               NaN  \n",
       "1               NaN  \n",
       "2          0.046428  \n",
       "3          0.027181  \n",
       "4          0.019376  \n",
       "...             ...  \n",
       "32543           NaN  \n",
       "32544           NaN  \n",
       "32545           NaN  \n",
       "32546           NaN  \n",
       "32547           NaN  \n",
       "\n",
       "[32548 rows x 8 columns]"
      ]
     },
     "execution_count": 19,
     "metadata": {},
     "output_type": "execute_result"
    }
   ],
   "source": [
    "expected"
   ]
  },
  {
   "cell_type": "code",
   "execution_count": 20,
   "metadata": {
    "scrolled": false
   },
   "outputs": [],
   "source": [
    "# Create the stack of snips:\n",
    "stack = cooltools.pileup(clr, sites, view_df=hg38_arms, expected_df=expected, flank=300_000) \n",
    "\n",
    "# Mirror reflect snippets when the feature is on the opposite strand\n",
    "mask = np.array(sites.strand == '-', dtype=bool)\n",
    "stack[:, :, mask] = stack[::-1, ::-1, mask]\n",
    "    \n",
    "mtx = np.nanmean(stack, axis=2)"
   ]
  },
  {
   "cell_type": "code",
   "execution_count": 21,
   "metadata": {},
   "outputs": [
    {
     "name": "stderr",
     "output_type": "stream",
     "text": [
      "<ipython-input-21-515c6c18274b>:2: RuntimeWarning: divide by zero encountered in log2\n",
      "  np.log2(mtx),\n"
     ]
    },
    {
     "data": {
      "image/png": "[encoded data removed]",
      "text/plain": [
       "<Figure size 432x288 with 2 Axes>"
      ]
     },
     "metadata": {
      "needs_background": "light"
     },
     "output_type": "display_data"
    }
   ],
   "source": [
    "plt.imshow(\n",
    "    np.log2(mtx),\n",
    "    vmax = 1.0,\n",
    "    vmin = -1.0,\n",
    "    cmap='coolwarm',\n",
    "    interpolation='none')\n",
    "\n",
    "plt.colorbar(label = 'log2 mean obs/exp')\n",
    "ticks_pixels = np.linspace(0, flank*2//resolution,5)\n",
    "ticks_kbp = ((ticks_pixels-ticks_pixels[-1]/2)*resolution//1000).astype(int)\n",
    "plt.xticks(ticks_pixels, ticks_kbp)\n",
    "plt.yticks(ticks_pixels, ticks_kbp)\n",
    "plt.xlabel('relative position, kbp')\n",
    "plt.ylabel('relative position, kbp')\n",
    "\n",
    "plt.show()"
   ]
  },
  {
   "cell_type": "markdown",
   "metadata": {},
   "source": [
    "### Inspect the snips\n",
    "\n",
    "Aggregation is a convenient though dangerous step. It averages your data so that you cannot distinguish whether the signal is indeed average, or there is a single dataset that introduces a bias to your analysis. To make sure there are no outliers, you may want to use inspection of individual snippets.\n",
    "\n",
    "Also, you might notice that we sort the dataframe with CTCF motifs by the strength of binding. We can utilize it and inspect the Micro-C maps at the positions of the strongest and weakest CTCF sites. Run the cell below and try to compare snippets with the lowest score to the snippets with the largest score. "
   ]
  },
  {
   "cell_type": "code",
   "execution_count": 22,
   "metadata": {},
   "outputs": [
    {
     "data": {
      "application/vnd.jupyter.widget-view+json": {
       "model_id": "181ed5669f614cbc968a4e8b43347091",
       "version_major": 2,
       "version_minor": 0
      },
      "text/plain": [
       "interactive(children=(IntSlider(value=306, description='i', max=612), Output()), _dom_classes=('widget-interac…"
      ]
     },
     "metadata": {},
     "output_type": "display_data"
    }
   ],
   "source": [
    "from ipywidgets import interact\n",
    "from matplotlib.gridspec import GridSpec\n",
    "\n",
    "n_examples = len(sites)\n",
    "\n",
    "@interact(i=(0, n_examples-1))\n",
    "def f(i):\n",
    "    fig, ax = plt.subplots(figsize=[5,5])\n",
    "    img = ax.matshow(\n",
    "        np.log2(stack[:, :, i]),  \n",
    "        vmin=-1,\n",
    "        vmax=1,\n",
    "        extent=[-flank//1000, flank//1000, -flank//1000, flank//1000],\n",
    "        cmap='coolwarm'\n",
    "    )\n",
    "    ax.xaxis.tick_bottom()\n",
    "    if i > 0:\n",
    "        ax.yaxis.set_visible(False)\n",
    "    plt.title(f'{i+1}-th snippet from top \\n FC score: {sites.loc[i, \"FC_score\"]:.2f}\\n and motif score: {sites.loc[i, \"score\"]:.2f}')\n",
    "    plt.axvline(0, c='g', ls=':')\n",
    "    plt.axhline(0, c='g', ls=':')"
   ]
  },
  {
   "cell_type": "markdown",
   "metadata": {},
   "source": [
    "### Compare top strongest peaks with others\n",
    "\n",
    "Compare the top peaks with both motif score and FC score to the rest of the peaks:"
   ]
  },
  {
   "cell_type": "code",
   "execution_count": 23,
   "metadata": {},
   "outputs": [],
   "source": [
    "# Create the stack of snips:\n",
    "stack = cooltools.pileup(clr, ctcf, view_df=hg38_arms, expected_df=expected, flank=300_000\n",
    "            ) \n",
    "\n",
    "# Mirror reflect snippets where the feature is on the opposite strand\n",
    "mask = np.array(ctcf.strand == '-', dtype=bool)\n",
    "stack[:, :, mask] = stack[::-1, ::-1, mask]\n",
    "    \n",
    "mtx = np.nanmean(stack, axis=2)"
   ]
  },
  {
   "cell_type": "code",
   "execution_count": 24,
   "metadata": {},
   "outputs": [
    {
     "name": "stderr",
     "output_type": "stream",
     "text": [
      "<ipython-input-24-aad00e66f706>:14: RuntimeWarning: divide by zero encountered in log2\n",
      "  np.log2(mtx),\n"
     ]
    },
    {
     "data": {
      "image/png": "[encoded data removed]",
      "text/plain": [
       "<Figure size 576x288 with 2 Axes>"
      ]
     },
     "metadata": {
      "needs_background": "light"
     },
     "output_type": "display_data"
    }
   ],
   "source": [
    "# TODO: add some strength of insulation for the pileup? \n",
    "\n",
    "groups = ['Top by both scores', 'Ordinary peaks']\n",
    "n_groups = len(groups)\n",
    "\n",
    "ticks_pixels = np.linspace(0, flank*2//resolution,5)\n",
    "ticks_kbp = ((ticks_pixels-ticks_pixels[-1]/2)*resolution//1000).astype(int)\n",
    "\n",
    "fig, axs = plt.subplots(1, n_groups, sharex=True, sharey=True, figsize=(4*n_groups, 4))\n",
    "for i in range(n_groups):\n",
    "    mtx = np.nanmean( stack[:, :, ctcf['peaks_importance']==groups[i]], axis=2)\n",
    "    ax = axs[i]\n",
    "    ax.imshow(\n",
    "        np.log2(mtx),\n",
    "        vmax = 1.0,\n",
    "        vmin = -1.0,\n",
    "        cmap='coolwarm',\n",
    "        interpolation='none')\n",
    "    \n",
    "    ax.set(title=f'{groups[i]} group', \n",
    "           xticks=ticks_pixels, \n",
    "           xticklabels=ticks_kbp, \n",
    "           xlabel='relative position, kbp')\n",
    "\n",
    "axs[0].set(yticks=ticks_pixels, \n",
    "       yticklabels=ticks_kbp, \n",
    "       ylabel='relative position, kbp')\n",
    "\n",
    "plt.show()"
   ]
  },
  {
   "cell_type": "markdown",
   "metadata": {},
   "source": [
    "## Off-diagonal pileup\n",
    "\n",
    "**Off-diagonal pileups** are the averaged Hi-C maps around double anchors. In this case, the anchors are CTCF sites in the genome. \n"
   ]
  },
  {
   "cell_type": "code",
   "execution_count": 25,
   "metadata": {},
   "outputs": [],
   "source": [
    "paired_sites = bioframe.pair_by_distance(sites, min_sep=200000, max_sep=1000000, suffixes=('1', '2'))\n",
    "paired_sites.loc[:, 'mid1'] = (paired_sites['start1'] + paired_sites['end1'])//2\n",
    "paired_sites.loc[:, 'mid2'] = (paired_sites['start2'] + paired_sites['end2'])//2"
   ]
  },
  {
   "cell_type": "code",
   "execution_count": 26,
   "metadata": {},
   "outputs": [
    {
     "name": "stdout",
     "output_type": "stream",
     "text": [
      "1634\n"
     ]
    },
    {
     "data": {
      "text/html": [
       "<div>\n",
       "<style scoped>\n",
       "    .dataframe tbody tr th:only-of-type {\n",
       "        vertical-align: middle;\n",
       "    }\n",
       "\n",
       "    .dataframe tbody tr th {\n",
       "        vertical-align: top;\n",
       "    }\n",
       "\n",
       "    .dataframe thead th {\n",
       "        text-align: right;\n",
       "    }\n",
       "</style>\n",
       "<table border=\"1\" class=\"dataframe\">\n",
       "  <thead>\n",
       "    <tr style=\"text-align: right;\">\n",
       "      <th></th>\n",
       "      <th>chrom1</th>\n",
       "      <th>start1</th>\n",
       "      <th>end1</th>\n",
       "      <th>name1</th>\n",
       "      <th>score1</th>\n",
       "      <th>strand1</th>\n",
       "      <th>mid1</th>\n",
       "      <th>FC_score1</th>\n",
       "      <th>quartile_score1</th>\n",
       "      <th>quartile_FC_score1</th>\n",
       "      <th>...</th>\n",
       "      <th>score2</th>\n",
       "      <th>strand2</th>\n",
       "      <th>mid2</th>\n",
       "      <th>FC_score2</th>\n",
       "      <th>quartile_score2</th>\n",
       "      <th>quartile_FC_score2</th>\n",
       "      <th>peaks_importance2</th>\n",
       "      <th>cluster2</th>\n",
       "      <th>cluster_start2</th>\n",
       "      <th>cluster_end2</th>\n",
       "    </tr>\n",
       "  </thead>\n",
       "  <tbody>\n",
       "    <tr>\n",
       "      <th>0</th>\n",
       "      <td>chr2</td>\n",
       "      <td>9142890</td>\n",
       "      <td>9142909</td>\n",
       "      <td>MA0139.1_CTCF_human</td>\n",
       "      <td>14.370272</td>\n",
       "      <td>+</td>\n",
       "      <td>9142899</td>\n",
       "      <td>57.192372</td>\n",
       "      <td>4</td>\n",
       "      <td>4</td>\n",
       "      <td>...</td>\n",
       "      <td>14.443313</td>\n",
       "      <td>+</td>\n",
       "      <td>9799853</td>\n",
       "      <td>44.800138</td>\n",
       "      <td>4</td>\n",
       "      <td>4</td>\n",
       "      <td>Top by both scores</td>\n",
       "      <td>297</td>\n",
       "      <td>9799844</td>\n",
       "      <td>9799863</td>\n",
       "    </tr>\n",
       "    <tr>\n",
       "      <th>1</th>\n",
       "      <td>chr2</td>\n",
       "      <td>9142890</td>\n",
       "      <td>9142909</td>\n",
       "      <td>MA0139.1_CTCF_human</td>\n",
       "      <td>14.370272</td>\n",
       "      <td>+</td>\n",
       "      <td>9142899</td>\n",
       "      <td>57.192372</td>\n",
       "      <td>4</td>\n",
       "      <td>4</td>\n",
       "      <td>...</td>\n",
       "      <td>14.615574</td>\n",
       "      <td>+</td>\n",
       "      <td>9814015</td>\n",
       "      <td>58.514535</td>\n",
       "      <td>4</td>\n",
       "      <td>4</td>\n",
       "      <td>Top by both scores</td>\n",
       "      <td>298</td>\n",
       "      <td>9814006</td>\n",
       "      <td>9814025</td>\n",
       "    </tr>\n",
       "    <tr>\n",
       "      <th>2</th>\n",
       "      <td>chr2</td>\n",
       "      <td>9142890</td>\n",
       "      <td>9142909</td>\n",
       "      <td>MA0139.1_CTCF_human</td>\n",
       "      <td>14.370272</td>\n",
       "      <td>+</td>\n",
       "      <td>9142899</td>\n",
       "      <td>57.192372</td>\n",
       "      <td>4</td>\n",
       "      <td>4</td>\n",
       "      <td>...</td>\n",
       "      <td>15.431173</td>\n",
       "      <td>+</td>\n",
       "      <td>10072755</td>\n",
       "      <td>41.851889</td>\n",
       "      <td>4</td>\n",
       "      <td>4</td>\n",
       "      <td>Top by both scores</td>\n",
       "      <td>299</td>\n",
       "      <td>10072746</td>\n",
       "      <td>10072765</td>\n",
       "    </tr>\n",
       "    <tr>\n",
       "      <th>3</th>\n",
       "      <td>chr2</td>\n",
       "      <td>9799844</td>\n",
       "      <td>9799863</td>\n",
       "      <td>MA0139.1_CTCF_human</td>\n",
       "      <td>14.443313</td>\n",
       "      <td>+</td>\n",
       "      <td>9799853</td>\n",
       "      <td>44.800138</td>\n",
       "      <td>4</td>\n",
       "      <td>4</td>\n",
       "      <td>...</td>\n",
       "      <td>14.597429</td>\n",
       "      <td>-</td>\n",
       "      <td>10435119</td>\n",
       "      <td>54.345450</td>\n",
       "      <td>4</td>\n",
       "      <td>4</td>\n",
       "      <td>Top by both scores</td>\n",
       "      <td>300</td>\n",
       "      <td>10435110</td>\n",
       "      <td>10435129</td>\n",
       "    </tr>\n",
       "    <tr>\n",
       "      <th>4</th>\n",
       "      <td>chr2</td>\n",
       "      <td>9814006</td>\n",
       "      <td>9814025</td>\n",
       "      <td>MA0139.1_CTCF_human</td>\n",
       "      <td>14.615574</td>\n",
       "      <td>+</td>\n",
       "      <td>9814015</td>\n",
       "      <td>58.514535</td>\n",
       "      <td>4</td>\n",
       "      <td>4</td>\n",
       "      <td>...</td>\n",
       "      <td>14.597429</td>\n",
       "      <td>-</td>\n",
       "      <td>10435119</td>\n",
       "      <td>54.345450</td>\n",
       "      <td>4</td>\n",
       "      <td>4</td>\n",
       "      <td>Top by both scores</td>\n",
       "      <td>300</td>\n",
       "      <td>10435110</td>\n",
       "      <td>10435129</td>\n",
       "    </tr>\n",
       "  </tbody>\n",
       "</table>\n",
       "<p>5 rows × 28 columns</p>\n",
       "</div>"
      ],
      "text/plain": [
       "  chrom1   start1     end1                name1     score1 strand1     mid1  \\\n",
       "0   chr2  9142890  9142909  MA0139.1_CTCF_human  14.370272       +  9142899   \n",
       "1   chr2  9142890  9142909  MA0139.1_CTCF_human  14.370272       +  9142899   \n",
       "2   chr2  9142890  9142909  MA0139.1_CTCF_human  14.370272       +  9142899   \n",
       "3   chr2  9799844  9799863  MA0139.1_CTCF_human  14.443313       +  9799853   \n",
       "4   chr2  9814006  9814025  MA0139.1_CTCF_human  14.615574       +  9814015   \n",
       "\n",
       "   FC_score1  quartile_score1  quartile_FC_score1  ...     score2  strand2  \\\n",
       "0  57.192372                4                   4  ...  14.443313        +   \n",
       "1  57.192372                4                   4  ...  14.615574        +   \n",
       "2  57.192372                4                   4  ...  15.431173        +   \n",
       "3  44.800138                4                   4  ...  14.597429        -   \n",
       "4  58.514535                4                   4  ...  14.597429        -   \n",
       "\n",
       "       mid2  FC_score2 quartile_score2  quartile_FC_score2  \\\n",
       "0   9799853  44.800138               4                   4   \n",
       "1   9814015  58.514535               4                   4   \n",
       "2  10072755  41.851889               4                   4   \n",
       "3  10435119  54.345450               4                   4   \n",
       "4  10435119  54.345450               4                   4   \n",
       "\n",
       "    peaks_importance2 cluster2  cluster_start2 cluster_end2  \n",
       "0  Top by both scores      297         9799844      9799863  \n",
       "1  Top by both scores      298         9814006      9814025  \n",
       "2  Top by both scores      299        10072746     10072765  \n",
       "3  Top by both scores      300        10435110     10435129  \n",
       "4  Top by both scores      300        10435110     10435129  \n",
       "\n",
       "[5 rows x 28 columns]"
      ]
     },
     "execution_count": 26,
     "metadata": {},
     "output_type": "execute_result"
    }
   ],
   "source": [
    "print(len(paired_sites))\n",
    "paired_sites.head()"
   ]
  },
  {
   "cell_type": "markdown",
   "metadata": {},
   "source": [
    "For pileup, we will use the expected calculated above:"
   ]
  },
  {
   "cell_type": "code",
   "execution_count": 27,
   "metadata": {},
   "outputs": [],
   "source": [
    "# create the stack of snips:\n",
    "stack = cooltools.pileup(clr, paired_sites, view_df=hg38_arms, expected_df=expected, flank=100_000)\n",
    "    \n",
    "mtx = np.nanmean(stack, axis=2)"
   ]
  },
  {
   "cell_type": "code",
   "execution_count": 28,
   "metadata": {},
   "outputs": [
    {
     "data": {
      "image/png": "[encoded data removed]",
      "text/plain": [
       "<Figure size 432x288 with 2 Axes>"
      ]
     },
     "metadata": {
      "needs_background": "light"
     },
     "output_type": "display_data"
    }
   ],
   "source": [
    "plt.imshow(\n",
    "    np.log2(mtx),\n",
    "    vmax = 1,\n",
    "    vmin = -1,\n",
    "    cmap='coolwarm')\n",
    "\n",
    "plt.colorbar(label = 'log2 mean obs/exp')\n",
    "ticks_pixels = np.linspace(0, flank*2//resolution,5)\n",
    "ticks_kbp = ((ticks_pixels-ticks_pixels[-1]/2)*resolution//1000).astype(int)\n",
    "plt.xticks(ticks_pixels, ticks_kbp)\n",
    "plt.yticks(ticks_pixels, ticks_kbp)\n",
    "plt.xlabel('relative position, kbp')\n",
    "plt.ylabel('relative position, kbp')\n",
    "\n",
    "plt.show()"
   ]
  }
 ],
 "metadata": {
  "kernelspec": {
   "display_name": "Python 3",
   "language": "python",
   "name": "python3"
  },
  "language_info": {
   "codemirror_mode": {
    "name": "ipython",
    "version": 3
   },
   "file_extension": ".py",
   "mimetype": "text/x-python",
   "name": "python",
   "nbconvert_exporter": "python",
   "pygments_lexer": "ipython3",
   "version": "3.8.5"
  }
 },
 "nbformat": 4,
 "nbformat_minor": 4
}
