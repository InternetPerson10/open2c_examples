{
 "cells": [
  {
   "cell_type": "markdown",
   "metadata": {},
   "source": [
    "# Welcome to the cooltools pileups notebook!"
   ]
  },
  {
   "cell_type": "markdown",
   "metadata": {},
   "source": [
    "Content:\n",
    "\n",
    "- Data download\n",
    "- Reading the information about the genome\n",
    "- CTCF on-diagonal pipeup\n",
    "- Inspect examples (on its way)\n",
    "- CTCF off-diagonal pileup (on its way)"
   ]
  },
  {
   "cell_type": "code",
   "execution_count": 1,
   "metadata": {},
   "outputs": [],
   "source": [
    "# import standard python libraries\n",
    "import numpy as np\n",
    "import matplotlib.pyplot as plt\n",
    "import pandas as pd\n",
    "import seaborn as sns"
   ]
  },
  {
   "cell_type": "code",
   "execution_count": 2,
   "metadata": {},
   "outputs": [],
   "source": [
    "# import libraries for biological data analysis\n",
    "import cooler\n",
    "import bioframe\n",
    "\n",
    "import cooltools\n",
    "from cooltools import snipping\n",
    "import cooltools.expected"
   ]
  },
  {
   "cell_type": "markdown",
   "metadata": {},
   "source": [
    "### Data download"
   ]
  },
  {
   "cell_type": "code",
   "execution_count": 3,
   "metadata": {},
   "outputs": [
    {
     "name": "stdout",
     "output_type": "stream",
     "text": [
      "Available datasets:\n",
      "1) HFF_MicroC : Micro-C data from HFF human cells for two chromosomes (hg38) in a multi-resolution mcool format. \n",
      "  Downloaded from https://osf.io/3h9js/download \n",
      "  Stored as test.mcool\n",
      "2) HFF_CTCF_fc : ChIP-Seq fold change over input with CTCF antibodies in HFF cells (hg38). Downloaded from ENCODE ENCSR000DWQ, ENCFF761RHS.bigWig file \n",
      "  Downloaded from https://osf.io/w92u3/download \n",
      "  Stored as test_CTCF.bigWig\n",
      "3) HFF_CTCF_binding : Binding sites called from CTCF ChIP-Seq peaks for HFF cells (hg38). Peaks are from ENCODE ENCSR000DWQ, ENCFF498QCT.bed file. The motifs are called with gimmemotifs (options --nreport 1 --cutoff 0), with JASPAR pwm MA0139. \n",
      "  Downloaded from https://osf.io/c9pwe/download \n",
      "  Stored as test_CTCF.bed.gz\n"
     ]
    }
   ],
   "source": [
    "# Print available datasets for download\n",
    "cooltools.print_available_datasets()"
   ]
  },
  {
   "cell_type": "code",
   "execution_count": 4,
   "metadata": {},
   "outputs": [],
   "source": [
    "# Downloading test data for pileups\n",
    "# cache = True will doanload the data only if it was not previously downloaded\n",
    "# data_dir=\"./\" will force download to the current directory\n",
    "cool_file = cooltools.download_data(\"HFF_MicroC\", cache=True, data_dir='./')\n",
    "ctcf_peaks_file = cooltools.download_data(\"HFF_CTCF_binding\", cache=True, data_dir='./')"
   ]
  },
  {
   "cell_type": "markdown",
   "metadata": {},
   "source": [
    "### Reading information about the genome"
   ]
  },
  {
   "cell_type": "markdown",
   "metadata": {},
   "source": [
    "When constructing an average plot, the pileup function needs to know the information about the genomic regions. \n",
    "\n",
    "How the information of the regions will be used in the pileup? \n",
    "\n",
    "- First, the pileup uses regions for parallelization of snipping. Different genomic regions are loaded simultaneously by different processes, and the snipping can be done in parallel. \n",
    "- Second, one particular type of pileup, observed over expected pileup, requires calculating expected interactions before snipping (P(s), in other words). Typically, you want to calculate each chromosome arm's expected interactions separately and not to include the interactions between chromosome arms (that might be affected by strong insulation of centromeres or Rabl configuration). \n",
    "\n",
    "For species that do not have information on chromosome arms, or have telocentric chromosomes (e.g., mouse), you may want to use full chromosomes instead. "
   ]
  },
  {
   "cell_type": "code",
   "execution_count": 5,
   "metadata": {},
   "outputs": [],
   "source": [
    "# Open cool file with Micro-C data:\n",
    "clr = cooler.Cooler('./test.mcool::/resolutions/1000')\n",
    "# Set up selected data resolution:\n",
    "resolution = 1000"
   ]
  },
  {
   "cell_type": "code",
   "execution_count": 6,
   "metadata": {},
   "outputs": [],
   "source": [
    "# Use bioframe to fetch the genomic features from the UCSC.\n",
    "hg38_chromsizes = bioframe.fetch_chromsizes('hg38', as_bed=True)\n",
    "hg38_cens = bioframe.fetch_centromeres('hg38')\n",
    "hg38_arms = bioframe.split(hg38_chromsizes, hg38_cens, cols_points=['chrom', 'mid'])\n",
    "\n",
    "# Select only chromosomes that are present in the cooler. \n",
    "# This step is typically not required! we call it only because the test data are reduced. \n",
    "hg38_chromsizes = hg38_chromsizes.set_index(\"chrom\").loc[clr.chromnames].reset_index() \n",
    "hg38_arms = hg38_arms.set_index(\"chrom\").loc[clr.chromnames].reset_index()\n",
    "# call this to automaticly assign names to chromosomal arms:\n",
    "hg38_arms = bioframe.parse_regions(hg38_arms)"
   ]
  },
  {
   "cell_type": "markdown",
   "metadata": {},
   "source": [
    "### Reading features for pileups\n",
    "\n",
    "As input for the pileup you need genomic **features** that will be used for centering the **snippets**. You will use positions of CTCF motifs in the peaks as features. "
   ]
  },
  {
   "cell_type": "code",
   "execution_count": 7,
   "metadata": {},
   "outputs": [
    {
     "data": {
      "text/html": [
       "<div>\n",
       "<style scoped>\n",
       "    .dataframe tbody tr th:only-of-type {\n",
       "        vertical-align: middle;\n",
       "    }\n",
       "\n",
       "    .dataframe tbody tr th {\n",
       "        vertical-align: top;\n",
       "    }\n",
       "\n",
       "    .dataframe thead th {\n",
       "        text-align: right;\n",
       "    }\n",
       "</style>\n",
       "<table border=\"1\" class=\"dataframe\">\n",
       "  <thead>\n",
       "    <tr style=\"text-align: right;\">\n",
       "      <th></th>\n",
       "      <th>chrom</th>\n",
       "      <th>start</th>\n",
       "      <th>end</th>\n",
       "      <th>name</th>\n",
       "      <th>score</th>\n",
       "      <th>strand</th>\n",
       "    </tr>\n",
       "  </thead>\n",
       "  <tbody>\n",
       "    <tr>\n",
       "      <th>17271</th>\n",
       "      <td>chr17</td>\n",
       "      <td>118485</td>\n",
       "      <td>118504</td>\n",
       "      <td>MA0139.1_CTCF_human</td>\n",
       "      <td>12.384042</td>\n",
       "      <td>-</td>\n",
       "    </tr>\n",
       "    <tr>\n",
       "      <th>17272</th>\n",
       "      <td>chr17</td>\n",
       "      <td>144002</td>\n",
       "      <td>144021</td>\n",
       "      <td>MA0139.1_CTCF_human</td>\n",
       "      <td>11.542617</td>\n",
       "      <td>+</td>\n",
       "    </tr>\n",
       "    <tr>\n",
       "      <th>17273</th>\n",
       "      <td>chr17</td>\n",
       "      <td>163676</td>\n",
       "      <td>163695</td>\n",
       "      <td>MA0139.1_CTCF_human</td>\n",
       "      <td>5.294219</td>\n",
       "      <td>-</td>\n",
       "    </tr>\n",
       "    <tr>\n",
       "      <th>17274</th>\n",
       "      <td>chr17</td>\n",
       "      <td>164711</td>\n",
       "      <td>164730</td>\n",
       "      <td>MA0139.1_CTCF_human</td>\n",
       "      <td>11.889376</td>\n",
       "      <td>+</td>\n",
       "    </tr>\n",
       "    <tr>\n",
       "      <th>17275</th>\n",
       "      <td>chr17</td>\n",
       "      <td>309416</td>\n",
       "      <td>309435</td>\n",
       "      <td>MA0139.1_CTCF_human</td>\n",
       "      <td>7.879575</td>\n",
       "      <td>-</td>\n",
       "    </tr>\n",
       "  </tbody>\n",
       "</table>\n",
       "</div>"
      ],
      "text/plain": [
       "       chrom   start     end                 name      score strand\n",
       "17271  chr17  118485  118504  MA0139.1_CTCF_human  12.384042      -\n",
       "17272  chr17  144002  144021  MA0139.1_CTCF_human  11.542617      +\n",
       "17273  chr17  163676  163695  MA0139.1_CTCF_human   5.294219      -\n",
       "17274  chr17  164711  164730  MA0139.1_CTCF_human  11.889376      +\n",
       "17275  chr17  309416  309435  MA0139.1_CTCF_human   7.879575      -"
      ]
     },
     "execution_count": 7,
     "metadata": {},
     "output_type": "execute_result"
    }
   ],
   "source": [
    "# Read CTCF peaks data and select only chromosomes present in cooler:\n",
    "ctcf = bioframe.read_table(ctcf_peaks_file, schema='bed').query(f'chrom in {clr.chromnames}')\n",
    "ctcf.head()"
   ]
  },
  {
   "cell_type": "code",
   "execution_count": 8,
   "metadata": {},
   "outputs": [
    {
     "data": {
      "text/html": [
       "<div>\n",
       "<style scoped>\n",
       "    .dataframe tbody tr th:only-of-type {\n",
       "        vertical-align: middle;\n",
       "    }\n",
       "\n",
       "    .dataframe tbody tr th {\n",
       "        vertical-align: top;\n",
       "    }\n",
       "\n",
       "    .dataframe thead th {\n",
       "        text-align: right;\n",
       "    }\n",
       "</style>\n",
       "<table border=\"1\" class=\"dataframe\">\n",
       "  <thead>\n",
       "    <tr style=\"text-align: right;\">\n",
       "      <th></th>\n",
       "      <th>chrom</th>\n",
       "      <th>start</th>\n",
       "      <th>end</th>\n",
       "      <th>name</th>\n",
       "      <th>score</th>\n",
       "      <th>strand</th>\n",
       "    </tr>\n",
       "  </thead>\n",
       "  <tbody>\n",
       "    <tr>\n",
       "      <th>25503</th>\n",
       "      <td>chr2</td>\n",
       "      <td>231612720</td>\n",
       "      <td>231612739</td>\n",
       "      <td>MA0139.1_CTCF_human</td>\n",
       "      <td>17.565931</td>\n",
       "      <td>+</td>\n",
       "    </tr>\n",
       "    <tr>\n",
       "      <th>19151</th>\n",
       "      <td>chr17</td>\n",
       "      <td>75905145</td>\n",
       "      <td>75905164</td>\n",
       "      <td>MA0139.1_CTCF_human</td>\n",
       "      <td>17.527591</td>\n",
       "      <td>+</td>\n",
       "    </tr>\n",
       "    <tr>\n",
       "      <th>19048</th>\n",
       "      <td>chr17</td>\n",
       "      <td>73370058</td>\n",
       "      <td>73370077</td>\n",
       "      <td>MA0139.1_CTCF_human</td>\n",
       "      <td>17.520560</td>\n",
       "      <td>-</td>\n",
       "    </tr>\n",
       "    <tr>\n",
       "      <th>17845</th>\n",
       "      <td>chr17</td>\n",
       "      <td>27760209</td>\n",
       "      <td>27760228</td>\n",
       "      <td>MA0139.1_CTCF_human</td>\n",
       "      <td>17.448366</td>\n",
       "      <td>+</td>\n",
       "    </tr>\n",
       "    <tr>\n",
       "      <th>17408</th>\n",
       "      <td>chr17</td>\n",
       "      <td>4413369</td>\n",
       "      <td>4413388</td>\n",
       "      <td>MA0139.1_CTCF_human</td>\n",
       "      <td>17.382937</td>\n",
       "      <td>-</td>\n",
       "    </tr>\n",
       "  </tbody>\n",
       "</table>\n",
       "</div>"
      ],
      "text/plain": [
       "       chrom      start        end                 name      score strand\n",
       "25503   chr2  231612720  231612739  MA0139.1_CTCF_human  17.565931      +\n",
       "19151  chr17   75905145   75905164  MA0139.1_CTCF_human  17.527591      +\n",
       "19048  chr17   73370058   73370077  MA0139.1_CTCF_human  17.520560      -\n",
       "17845  chr17   27760209   27760228  MA0139.1_CTCF_human  17.448366      +\n",
       "17408  chr17    4413369    4413388  MA0139.1_CTCF_human  17.382937      -"
      ]
     },
     "execution_count": 8,
     "metadata": {},
     "output_type": "execute_result"
    }
   ],
   "source": [
    "# select the top 500 CTCF sites by the strength of binding\n",
    "sites = ctcf.sort_values('score', ascending=False).iloc[:500]\n",
    "sites.head()"
   ]
  },
  {
   "cell_type": "markdown",
   "metadata": {},
   "source": [
    "Let's take a look at the distribution of scores and the top 500 selected ones: "
   ]
  },
  {
   "cell_type": "code",
   "execution_count": 9,
   "metadata": {},
   "outputs": [
    {
     "data": {
      "text/plain": [
       "Text(0.5, 1.0, 'Histogram of CTCF motifs scores')"
      ]
     },
     "execution_count": 9,
     "metadata": {},
     "output_type": "execute_result"
    },
    {
     "data": {
      "image/png": "[encoded data removed]",
      "text/plain": [
       "<Figure size 432x288 with 1 Axes>"
      ]
     },
     "metadata": {
      "needs_background": "light"
     },
     "output_type": "display_data"
    }
   ],
   "source": [
    "# TODO: Add CTCF peak prominence from MACS output instead, visualize thecorrelation between them both\n",
    "sns.histplot(ctcf.score, color='blue', bins=np.arange(-10,20,0.5))\n",
    "sns.histplot(sites.score, color='red', bins=np.arange(-10,20,0.5))\n",
    "plt.title('Histogram of CTCF motifs scores')"
   ]
  },
  {
   "cell_type": "markdown",
   "metadata": {},
   "source": [
    "## On-diagonal pileup"
   ]
  },
  {
   "cell_type": "markdown",
   "metadata": {},
   "source": [
    "On-diagonal pileup is the simplest, you need the positions of **features** (middlepoints of CTCF motifs) and the size of flanks aroung each motif. cooltools will create a snippet of Hi-C map for each feature. Then you can combine them into a single 2D pileup. "
   ]
  },
  {
   "cell_type": "code",
   "execution_count": 10,
   "metadata": {},
   "outputs": [
    {
     "data": {
      "text/html": [
       "<div>\n",
       "<style scoped>\n",
       "    .dataframe tbody tr th:only-of-type {\n",
       "        vertical-align: middle;\n",
       "    }\n",
       "\n",
       "    .dataframe tbody tr th {\n",
       "        vertical-align: top;\n",
       "    }\n",
       "\n",
       "    .dataframe thead th {\n",
       "        text-align: right;\n",
       "    }\n",
       "</style>\n",
       "<table border=\"1\" class=\"dataframe\">\n",
       "  <thead>\n",
       "    <tr style=\"text-align: right;\">\n",
       "      <th></th>\n",
       "      <th>chrom</th>\n",
       "      <th>start</th>\n",
       "      <th>end</th>\n",
       "      <th>lo</th>\n",
       "      <th>hi</th>\n",
       "      <th>strand</th>\n",
       "      <th>region</th>\n",
       "    </tr>\n",
       "  </thead>\n",
       "  <tbody>\n",
       "    <tr>\n",
       "      <th>25503</th>\n",
       "      <td>chr2</td>\n",
       "      <td>231512000</td>\n",
       "      <td>231713000</td>\n",
       "      <td>231512</td>\n",
       "      <td>231713</td>\n",
       "      <td>+</td>\n",
       "      <td>chr2:93139351-242193529</td>\n",
       "    </tr>\n",
       "    <tr>\n",
       "      <th>19151</th>\n",
       "      <td>chr17</td>\n",
       "      <td>75805000</td>\n",
       "      <td>76006000</td>\n",
       "      <td>75805</td>\n",
       "      <td>76006</td>\n",
       "      <td>+</td>\n",
       "      <td>chr17:24714921-83257441</td>\n",
       "    </tr>\n",
       "    <tr>\n",
       "      <th>19048</th>\n",
       "      <td>chr17</td>\n",
       "      <td>73270000</td>\n",
       "      <td>73471000</td>\n",
       "      <td>73270</td>\n",
       "      <td>73471</td>\n",
       "      <td>-</td>\n",
       "      <td>chr17:24714921-83257441</td>\n",
       "    </tr>\n",
       "    <tr>\n",
       "      <th>17845</th>\n",
       "      <td>chr17</td>\n",
       "      <td>27660000</td>\n",
       "      <td>27861000</td>\n",
       "      <td>27660</td>\n",
       "      <td>27861</td>\n",
       "      <td>+</td>\n",
       "      <td>chr17:24714921-83257441</td>\n",
       "    </tr>\n",
       "    <tr>\n",
       "      <th>17408</th>\n",
       "      <td>chr17</td>\n",
       "      <td>4313000</td>\n",
       "      <td>4514000</td>\n",
       "      <td>4313</td>\n",
       "      <td>4514</td>\n",
       "      <td>-</td>\n",
       "      <td>chr17:0-24714921</td>\n",
       "    </tr>\n",
       "  </tbody>\n",
       "</table>\n",
       "</div>"
      ],
      "text/plain": [
       "       chrom      start        end      lo      hi strand  \\\n",
       "25503   chr2  231512000  231713000  231512  231713      +   \n",
       "19151  chr17   75805000   76006000   75805   76006      +   \n",
       "19048  chr17   73270000   73471000   73270   73471      -   \n",
       "17845  chr17   27660000   27861000   27660   27861      +   \n",
       "17408  chr17    4313000    4514000    4313    4514      -   \n",
       "\n",
       "                        region  \n",
       "25503  chr2:93139351-242193529  \n",
       "19151  chr17:24714921-83257441  \n",
       "19048  chr17:24714921-83257441  \n",
       "17845  chr17:24714921-83257441  \n",
       "17408         chr17:0-24714921  "
      ]
     },
     "execution_count": 10,
     "metadata": {},
     "output_type": "execute_result"
    }
   ],
   "source": [
    "# Converting dataframe with features to format digestible by cooltools\n",
    "# This will be changed in the future and substituted with nicer API\n",
    "flank = 100000\n",
    "windows = snipping.make_bin_aligned_windows(\n",
    "    resolution, \n",
    "    sites['chrom'], \n",
    "    (sites['start'] + sites['end'])//2,\n",
    "    flank_bp=flank)\n",
    "windows['strand'] = sites['strand']\n",
    "\n",
    "# Assign genomic regions to windows:\n",
    "supports = hg38_arms[['chrom', 'start', 'end']].values\n",
    "windows = snipping.assign_regions(windows, supports)\n",
    "windows.head()"
   ]
  },
  {
   "cell_type": "code",
   "execution_count": 11,
   "metadata": {},
   "outputs": [],
   "source": [
    "# create the snipper object, which can be re-defined by user. \n",
    "# this will be changed in future\n",
    "snipper = cooltools.snipping.CoolerSnipper(clr)\n",
    "\n",
    "stack = cooltools.snipping.pileup(\n",
    "        windows, \n",
    "        snipper.select, \n",
    "        snipper.snip) \n",
    "\n",
    "stack[np.isinf(stack)] = np.nan\n",
    "\n",
    "# mirror reflect snippets whose feature is on the opposite strand\n",
    "mask = np.array(windows.strand == '-', dtype=bool)\n",
    "stack[:, :, mask] = stack[::-1, ::-1, mask]\n",
    "    \n",
    "mtx = np.nanmean(stack, axis=2)"
   ]
  },
  {
   "cell_type": "code",
   "execution_count": 12,
   "metadata": {},
   "outputs": [
    {
     "data": {
      "text/plain": [
       "Text(0, 0.5, 'relative position, kbp')"
      ]
     },
     "execution_count": 12,
     "metadata": {},
     "output_type": "execute_result"
    },
    {
     "data": {
      "image/png": "[encoded data removed]",
      "text/plain": [
       "<Figure size 432x288 with 2 Axes>"
      ]
     },
     "metadata": {
      "needs_background": "light"
     },
     "output_type": "display_data"
    }
   ],
   "source": [
    "plt.imshow(\n",
    "    np.log2(mtx),\n",
    "    vmax = -6,\n",
    "    vmin = -11,\n",
    "    cmap='coolwarm')\n",
    "plt.colorbar(label = 'log2 mean obs/exp')\n",
    "ticks_pixels = np.linspace(0, flank*2//resolution,5)\n",
    "ticks_kbp = ((ticks_pixels-ticks_pixels[-1]/2)*resolution//1000).astype(int)\n",
    "plt.xticks(ticks_pixels, ticks_kbp)\n",
    "plt.yticks(ticks_pixels, ticks_kbp)\n",
    "plt.xlabel('relative position, kbp')\n",
    "plt.ylabel('relative position, kbp')"
   ]
  }
 ],
 "metadata": {
  "kernelspec": {
   "display_name": "Python 3",
   "language": "python",
   "name": "python3"
  },
  "language_info": {
   "codemirror_mode": {
    "name": "ipython",
    "version": 3
   },
   "file_extension": ".py",
   "mimetype": "text/x-python",
   "name": "python",
   "nbconvert_exporter": "python",
   "pygments_lexer": "ipython3",
   "version": "3.8.6"
  }
 },
 "nbformat": 4,
 "nbformat_minor": 4
}
