{
 "cells": [
  {
   "cell_type": "markdown",
   "metadata": {},
   "source": [
    "# Contacts vs distance"
   ]
  },
  {
   "cell_type": "markdown",
   "metadata": {},
   "source": [
    "Welcome to the cooltools expected & contacts-vs-distance notebook!\n",
    "\n",
    "The strongest signal in a typical Hi-C map is the decay of contact frequency with **genomic separation** (also referred to as **genomic distance**). In the Hi-C field, this decay is often interchangeably referred to as the: \n",
    "\n",
    "* **expected** because one \"expects\" a certain average contact frequency at a given genomic separation\n",
    "* **scaling** which is borrowed from the polymer physics literature\n",
    "* **P(s) curve** contact *probability*, *P*, as a function of genomic *separation*, *s*. \n",
    "\n",
    "The monotonic decay of contacts with genomic separation is reflective of the polymeric nature of chromosomes and can tell us about the global folding patterns of the genome. \n",
    "\n",
    "This decay has been observed to vary through the cell cycle, across cell types, and after degredation of structural maintenance of chromosomes complexes (SMCs) in both interphase and mitosis. \n",
    "\n",
    "The goals of this notebook are to:\n",
    "\n",
    "* calculate the P(s) of a given cooler\n",
    "* plot the P(s) curve\n",
    "* smooth the P(s) curve with logarithmic binning\n",
    "* plot the derivative of P(s)\n",
    "* plot the P(s) between two different genomic regions\n",
    "* plot the matrix of average contact frequencies between different chromosomes"
   ]
  },
  {
   "cell_type": "code",
   "execution_count": 7,
   "metadata": {},
   "outputs": [
    {
     "name": "stdout",
     "output_type": "stream",
     "text": [
      "The autoreload extension is already loaded. To reload it, use:\n",
      "  %reload_ext autoreload\n"
     ]
    }
   ],
   "source": [
    "%load_ext autoreload\n",
    "%autoreload 2"
   ]
  },
  {
   "cell_type": "code",
   "execution_count": 8,
   "metadata": {},
   "outputs": [],
   "source": [
    "# import core packages\n",
    "import warnings\n",
    "warnings.filterwarnings(\"ignore\")\n",
    "from itertools import combinations\n",
    "\n",
    "# import semi-core packages\n",
    "import matplotlib.pyplot as plt\n",
    "from matplotlib import colors\n",
    "%matplotlib inline\n",
    "plt.style.use('seaborn-poster')\n",
    "import numpy as np\n",
    "import pandas as pd\n",
    "\n",
    "# import open2c libraries\n",
    "import bioframe\n",
    "\n",
    "import cooler\n",
    "import cooltools"
   ]
  },
  {
   "cell_type": "code",
   "execution_count": 9,
   "metadata": {},
   "outputs": [
    {
     "name": "stdout",
     "output_type": "stream",
     "text": [
      "./test.mcool\n"
     ]
    }
   ],
   "source": [
    "# download test data\n",
    "# this file is 145 Mb, and may take a few seconds to download\n",
    "cool_file = cooltools.download_data(\"HFF_MicroC\", cache=True, data_dir='./')    \n",
    "print(cool_file)"
   ]
  },
  {
   "cell_type": "code",
   "execution_count": 10,
   "metadata": {},
   "outputs": [],
   "source": [
    "# Load a Hi-C map at a 1kb resolution from a cooler file.\n",
    "resolution = 1000 # note this might be slightly slow on a laptop\n",
    "                  # and could be lowered to 10kb for increased speed\n",
    "clr = cooler.Cooler('./test.mcool::/resolutions/'+str(resolution))"
   ]
  },
  {
   "cell_type": "markdown",
   "metadata": {},
   "source": [
    "In addition to data stored in a cooler, the analyses below make use\n",
    "of where chromosomal arms start and stop to calculate contact frequency versus distance curves\n",
    "within arms. For commonly-used genomes, bioframe can be used to fetch these \n",
    "annotations directly from UCSC. For less commonly-used genomes, a table of arms, or chromosomes \n",
    "can be loaded in directly with pandas, e.g.  \n",
    "\n",
    "`chromsizes = pd.read_csv('chrom.sizes', sep='\\t')`\n",
    "\n",
    "Regions for calculating expected should be provided as a [viewFrame](https://bioframe.readthedocs.io/en/latest/guide-intervalops.html#genomic-views), i.e. a dataframe with four columns, chrom, start, stop, name,\n",
    "where entries in the name column are unique and the intervals are non-overlapping. If the chromsizes table does not have a name column, it can be created with  `bioframe.core.construction.add_ucsc_name_column(bioframe.make_viewframe(chromsizes))`."
   ]
  },
  {
   "cell_type": "code",
   "execution_count": 11,
   "metadata": {},
   "outputs": [
    {
     "data": {
      "text/html": [
       "<div>\n",
       "<style scoped>\n",
       "    .dataframe tbody tr th:only-of-type {\n",
       "        vertical-align: middle;\n",
       "    }\n",
       "\n",
       "    .dataframe tbody tr th {\n",
       "        vertical-align: top;\n",
       "    }\n",
       "\n",
       "    .dataframe thead th {\n",
       "        text-align: right;\n",
       "    }\n",
       "</style>\n",
       "<table border=\"1\" class=\"dataframe\">\n",
       "  <thead>\n",
       "    <tr style=\"text-align: right;\">\n",
       "      <th></th>\n",
       "      <th>chrom</th>\n",
       "      <th>start</th>\n",
       "      <th>end</th>\n",
       "      <th>name</th>\n",
       "    </tr>\n",
       "  </thead>\n",
       "  <tbody>\n",
       "    <tr>\n",
       "      <th>0</th>\n",
       "      <td>chr2</td>\n",
       "      <td>0</td>\n",
       "      <td>93139351</td>\n",
       "      <td>chr2_p</td>\n",
       "    </tr>\n",
       "    <tr>\n",
       "      <th>1</th>\n",
       "      <td>chr2</td>\n",
       "      <td>93139351</td>\n",
       "      <td>242193529</td>\n",
       "      <td>chr2_q</td>\n",
       "    </tr>\n",
       "    <tr>\n",
       "      <th>2</th>\n",
       "      <td>chr17</td>\n",
       "      <td>0</td>\n",
       "      <td>24714921</td>\n",
       "      <td>chr17_p</td>\n",
       "    </tr>\n",
       "    <tr>\n",
       "      <th>3</th>\n",
       "      <td>chr17</td>\n",
       "      <td>24714921</td>\n",
       "      <td>83257441</td>\n",
       "      <td>chr17_q</td>\n",
       "    </tr>\n",
       "  </tbody>\n",
       "</table>\n",
       "</div>"
      ],
      "text/plain": [
       "   chrom     start        end     name\n",
       "0   chr2         0   93139351   chr2_p\n",
       "1   chr2  93139351  242193529   chr2_q\n",
       "2  chr17         0   24714921  chr17_p\n",
       "3  chr17  24714921   83257441  chr17_q"
      ]
     },
     "execution_count": 11,
     "metadata": {},
     "output_type": "execute_result"
    }
   ],
   "source": [
    "# Use bioframe to fetch the genomic features from the UCSC.\n",
    "hg38_chromsizes = bioframe.fetch_chromsizes('hg38')\n",
    "hg38_cens = bioframe.fetch_centromeres('hg38')\n",
    "# create a view with chromosome arms using chromosome sizes and definition of centromeres\n",
    "hg38_arms = bioframe.make_chromarms(hg38_chromsizes,  hg38_cens)\n",
    "\n",
    "# select only those chromosomes available in cooler\n",
    "hg38_arms = hg38_arms[hg38_arms.chrom.isin(clr.chromnames)].reset_index(drop=True)\n",
    "hg38_arms"
   ]
  },
  {
   "cell_type": "markdown",
   "metadata": {},
   "source": [
    "### Calculate the P(s) curve"
   ]
  },
  {
   "cell_type": "markdown",
   "metadata": {},
   "source": [
    "To calculate the average contact frequency as a function of genomic separation, we use the fact that each diagonal of a Hi-C map records contacts between loci separated by the same genomic distance. For example, the 3rd diagonal of our matrix contains contacts between loci separated by 3-4kb (note that diagonals are 0-indexed). Thus, we calculate the average contact frequency, *P(s)*, at a given genomic distance, *s*, as the average value of all pixels of the corresponding diagonal. This operation is performed by `cooltools.expected_cis`.\n",
    "\n",
    "Note that we calculate the *P(s)* separately for each chromosomal **arm**, by providing  `hg38_arms` as a `view_df`. This way we will ignore contacts accross the centromere, which is generally a good idea, since such contacts have a slightly different decay versus genomic separation."
   ]
  },
  {
   "cell_type": "code",
   "execution_count": 14,
   "metadata": {},
   "outputs": [],
   "source": [
    "# cvd == contacts-vs-distance\n",
    "cvd = cooltools.expected_cis(\n",
    "    clr=clr,\n",
    "    view_df=hg38_arms,\n",
    "    smooth=False,\n",
    "    aggregate_smoothed=False,\n",
    "    nproc=4 #if you do not have multiple cores available, set to 1\n",
    ")"
   ]
  },
  {
   "cell_type": "markdown",
   "metadata": {},
   "source": [
    "This function calculates average contact frequency for raw and normalized interactions ( `count.avg` and `balanced.avg`) for each diagonal and each regions in the `hg38_arms` of a Hi-C map. It aslo keeps the sum of raw and normalized interaction counts (`count.sum` and `balanced.sum`) as well as the number of valid (i.e. non-masked) pixels at each diagonal, `n_valid`."
   ]
  },
  {
   "cell_type": "code",
   "execution_count": 16,
   "metadata": {},
   "outputs": [
    {
     "data": {
      "text/html": [
       "<div>\n",
       "<style scoped>\n",
       "    .dataframe tbody tr th:only-of-type {\n",
       "        vertical-align: middle;\n",
       "    }\n",
       "\n",
       "    .dataframe tbody tr th {\n",
       "        vertical-align: top;\n",
       "    }\n",
       "\n",
       "    .dataframe thead th {\n",
       "        text-align: right;\n",
       "    }\n",
       "</style>\n",
       "<table border=\"1\" class=\"dataframe\">\n",
       "  <thead>\n",
       "    <tr style=\"text-align: right;\">\n",
       "      <th></th>\n",
       "      <th>region1</th>\n",
       "      <th>region2</th>\n",
       "      <th>dist</th>\n",
       "      <th>n_valid</th>\n",
       "      <th>count.sum</th>\n",
       "      <th>balanced.sum</th>\n",
       "      <th>count.avg</th>\n",
       "      <th>balanced.avg</th>\n",
       "    </tr>\n",
       "  </thead>\n",
       "  <tbody>\n",
       "    <tr>\n",
       "      <th>0</th>\n",
       "      <td>chr2_p</td>\n",
       "      <td>chr2_p</td>\n",
       "      <td>0</td>\n",
       "      <td>86055</td>\n",
       "      <td>NaN</td>\n",
       "      <td>NaN</td>\n",
       "      <td>NaN</td>\n",
       "      <td>NaN</td>\n",
       "    </tr>\n",
       "    <tr>\n",
       "      <th>1</th>\n",
       "      <td>chr2_p</td>\n",
       "      <td>chr2_p</td>\n",
       "      <td>1</td>\n",
       "      <td>85282</td>\n",
       "      <td>NaN</td>\n",
       "      <td>NaN</td>\n",
       "      <td>NaN</td>\n",
       "      <td>NaN</td>\n",
       "    </tr>\n",
       "    <tr>\n",
       "      <th>2</th>\n",
       "      <td>chr2_p</td>\n",
       "      <td>chr2_p</td>\n",
       "      <td>2</td>\n",
       "      <td>84918</td>\n",
       "      <td>10842540.0</td>\n",
       "      <td>8344.916674</td>\n",
       "      <td>127.682470</td>\n",
       "      <td>0.098270</td>\n",
       "    </tr>\n",
       "    <tr>\n",
       "      <th>3</th>\n",
       "      <td>chr2_p</td>\n",
       "      <td>chr2_p</td>\n",
       "      <td>3</td>\n",
       "      <td>84649</td>\n",
       "      <td>4733321.0</td>\n",
       "      <td>3623.417357</td>\n",
       "      <td>55.917034</td>\n",
       "      <td>0.042805</td>\n",
       "    </tr>\n",
       "  </tbody>\n",
       "</table>\n",
       "</div>"
      ],
      "text/plain": [
       "  region1 region2  dist  n_valid   count.sum  balanced.sum   count.avg  \\\n",
       "0  chr2_p  chr2_p     0    86055         NaN           NaN         NaN   \n",
       "1  chr2_p  chr2_p     1    85282         NaN           NaN         NaN   \n",
       "2  chr2_p  chr2_p     2    84918  10842540.0   8344.916674  127.682470   \n",
       "3  chr2_p  chr2_p     3    84649   4733321.0   3623.417357   55.917034   \n",
       "\n",
       "   balanced.avg  \n",
       "0           NaN  \n",
       "1           NaN  \n",
       "2      0.098270  \n",
       "3      0.042805  "
      ]
     },
     "metadata": {},
     "output_type": "display_data"
    },
    {
     "data": {
      "text/html": [
       "<div>\n",
       "<style scoped>\n",
       "    .dataframe tbody tr th:only-of-type {\n",
       "        vertical-align: middle;\n",
       "    }\n",
       "\n",
       "    .dataframe tbody tr th {\n",
       "        vertical-align: top;\n",
       "    }\n",
       "\n",
       "    .dataframe thead th {\n",
       "        text-align: right;\n",
       "    }\n",
       "</style>\n",
       "<table border=\"1\" class=\"dataframe\">\n",
       "  <thead>\n",
       "    <tr style=\"text-align: right;\">\n",
       "      <th></th>\n",
       "      <th>region1</th>\n",
       "      <th>region2</th>\n",
       "      <th>dist</th>\n",
       "      <th>n_valid</th>\n",
       "      <th>count.sum</th>\n",
       "      <th>balanced.sum</th>\n",
       "      <th>count.avg</th>\n",
       "      <th>balanced.avg</th>\n",
       "    </tr>\n",
       "  </thead>\n",
       "  <tbody>\n",
       "    <tr>\n",
       "      <th>325450</th>\n",
       "      <td>chr17_q</td>\n",
       "      <td>chr17_q</td>\n",
       "      <td>58540</td>\n",
       "      <td>0</td>\n",
       "      <td>0.0</td>\n",
       "      <td>0.0</td>\n",
       "      <td>NaN</td>\n",
       "      <td>NaN</td>\n",
       "    </tr>\n",
       "    <tr>\n",
       "      <th>325451</th>\n",
       "      <td>chr17_q</td>\n",
       "      <td>chr17_q</td>\n",
       "      <td>58541</td>\n",
       "      <td>0</td>\n",
       "      <td>0.0</td>\n",
       "      <td>0.0</td>\n",
       "      <td>NaN</td>\n",
       "      <td>NaN</td>\n",
       "    </tr>\n",
       "    <tr>\n",
       "      <th>325452</th>\n",
       "      <td>chr17_q</td>\n",
       "      <td>chr17_q</td>\n",
       "      <td>58542</td>\n",
       "      <td>0</td>\n",
       "      <td>0.0</td>\n",
       "      <td>0.0</td>\n",
       "      <td>NaN</td>\n",
       "      <td>NaN</td>\n",
       "    </tr>\n",
       "    <tr>\n",
       "      <th>325453</th>\n",
       "      <td>chr17_q</td>\n",
       "      <td>chr17_q</td>\n",
       "      <td>58543</td>\n",
       "      <td>0</td>\n",
       "      <td>0.0</td>\n",
       "      <td>0.0</td>\n",
       "      <td>NaN</td>\n",
       "      <td>NaN</td>\n",
       "    </tr>\n",
       "  </tbody>\n",
       "</table>\n",
       "</div>"
      ],
      "text/plain": [
       "        region1  region2   dist  n_valid  count.sum  balanced.sum  count.avg  \\\n",
       "325450  chr17_q  chr17_q  58540        0        0.0           0.0        NaN   \n",
       "325451  chr17_q  chr17_q  58541        0        0.0           0.0        NaN   \n",
       "325452  chr17_q  chr17_q  58542        0        0.0           0.0        NaN   \n",
       "325453  chr17_q  chr17_q  58543        0        0.0           0.0        NaN   \n",
       "\n",
       "        balanced.avg  \n",
       "325450           NaN  \n",
       "325451           NaN  \n",
       "325452           NaN  \n",
       "325453           NaN  "
      ]
     },
     "metadata": {},
     "output_type": "display_data"
    }
   ],
   "source": [
    "display(cvd.head(4))\n",
    "display(cvd.tail(4))"
   ]
  },
  {
   "cell_type": "markdown",
   "metadata": {},
   "source": [
    "Note that the data from the first couple of diagonals are masked. This is done intentionally, since interactions at these diagonals (very short-ranged) are contaminated by non-informative Hi-C byproducts - dangling ends and self-circles. "
   ]
  },
  {
   "cell_type": "markdown",
   "metadata": {},
   "source": [
    "### Plot the P(s) curve"
   ]
  },
  {
   "cell_type": "markdown",
   "metadata": {},
   "source": [
    "Time to plot *P(s)* !\n",
    "\n",
    "The first challenge  is that Hi-C has a very wide dynamic range. Hi-C probes genomic separations ranging from 100s to 100,000,000s of basepairs and contact frequencies also tend to span many orders of magnitude.\n",
    "\n",
    "Plotting such data in the linear scale would reveal only a part of the whole picture. Instead, we typically switch to double logarithmic (aka log-log) plots, where the x and y coordinates vary by orders of magnitude."
   ]
  },
  {
   "cell_type": "markdown",
   "metadata": {},
   "source": [
    "With the flags used above, `expected_cis()` does not smooth or aggregate across regions. This can lead to noisy P(s) curves for each region:"
   ]
  },
  {
   "cell_type": "code",
   "execution_count": 17,
   "metadata": {},
   "outputs": [
    {
     "data": {
      "image/png": "[encoded data removed]",
      "text/plain": [
       "<Figure size 921.6x633.6 with 1 Axes>"
      ]
     },
     "metadata": {
      "needs_background": "light"
     },
     "output_type": "display_data"
    }
   ],
   "source": [
    "cvd['s_bp'] = cvd['dist']* resolution\n",
    "f, ax = plt.subplots(1,1)\n",
    "\n",
    "for region in hg38_arms['name']:\n",
    "    ax.loglog(\n",
    "        cvd['s_bp'].loc[cvd['region1']==region],\n",
    "        cvd['balanced.avg'].loc[cvd['region1']==region],\n",
    "    )\n",
    "    ax.set(\n",
    "        xlabel='separation, bp', \n",
    "        ylabel='IC contact frequency')\n",
    "    ax.set_aspect(1.0)\n",
    "    ax.grid(lw=0.5)"
   ]
  },
  {
   "cell_type": "markdown",
   "metadata": {},
   "source": [
    "The non-smoothed curves plotted above form characteristic \"fans\" at longer separations. This happens for two reasons: (a) we plot values of **each** diagonal separately and thus each decade of s contains 10x more points, and (b) due to the polymer nature of chromosomes, contact frequency at large genomic separations are lower and thus more affected by sequencing depth.\n",
    "\n",
    "This issue is more that just cosmetic, as this noise would prevent us from doing finer analyses of *P(s)* and propagate into data derived from *P(s)*. However, there is a simple solution: we can calculate *P(s)* not for individual diagonals, but rather for whole groups of consecutive diagonals (a.k.a. genomic distance bins). This works because *P(s)* changes very gradually with *s*, so that consecutive diagonals have similar values. Furthermore, we can make each subsequent distance bin wider than the previous one, so that each order of magnitude of genomic separation contains the same number of bins. Such aggregation requires multiple steps, so `cooltools.api.expected` provides functions for this.\n"
   ]
  },
  {
   "cell_type": "markdown",
   "metadata": {},
   "source": [
    "### Smoothing & aggregating P(s) curves"
   ]
  },
  {
   "cell_type": "markdown",
   "metadata": {},
   "source": [
    "Instead of the flags above, we can pass flags to `expected_cis()` that return smoothed and aggregated columns for futher analysis (which are on by default)."
   ]
  },
  {
   "cell_type": "code",
   "execution_count": 18,
   "metadata": {},
   "outputs": [],
   "source": [
    "cvd_smooth_agg = cooltools.expected_cis(\n",
    "    clr=clr,\n",
    "    view_df=hg38_arms,\n",
    "    smooth=True,\n",
    "    aggregate_smoothed=True,\n",
    "    nproc=4\n",
    ")"
   ]
  },
  {
   "cell_type": "code",
   "execution_count": 19,
   "metadata": {},
   "outputs": [
    {
     "data": {
      "text/html": [
       "<div>\n",
       "<style scoped>\n",
       "    .dataframe tbody tr th:only-of-type {\n",
       "        vertical-align: middle;\n",
       "    }\n",
       "\n",
       "    .dataframe tbody tr th {\n",
       "        vertical-align: top;\n",
       "    }\n",
       "\n",
       "    .dataframe thead th {\n",
       "        text-align: right;\n",
       "    }\n",
       "</style>\n",
       "<table border=\"1\" class=\"dataframe\">\n",
       "  <thead>\n",
       "    <tr style=\"text-align: right;\">\n",
       "      <th></th>\n",
       "      <th>region1</th>\n",
       "      <th>region2</th>\n",
       "      <th>dist</th>\n",
       "      <th>n_valid</th>\n",
       "      <th>count.sum</th>\n",
       "      <th>balanced.sum</th>\n",
       "      <th>count.avg</th>\n",
       "      <th>balanced.avg</th>\n",
       "      <th>balanced.avg.smoothed</th>\n",
       "      <th>balanced.avg.smoothed.agg</th>\n",
       "    </tr>\n",
       "  </thead>\n",
       "  <tbody>\n",
       "    <tr>\n",
       "      <th>0</th>\n",
       "      <td>chr2_p</td>\n",
       "      <td>chr2_p</td>\n",
       "      <td>0</td>\n",
       "      <td>86055</td>\n",
       "      <td>NaN</td>\n",
       "      <td>NaN</td>\n",
       "      <td>NaN</td>\n",
       "      <td>NaN</td>\n",
       "      <td>NaN</td>\n",
       "      <td>NaN</td>\n",
       "    </tr>\n",
       "    <tr>\n",
       "      <th>1</th>\n",
       "      <td>chr2_p</td>\n",
       "      <td>chr2_p</td>\n",
       "      <td>1</td>\n",
       "      <td>85282</td>\n",
       "      <td>NaN</td>\n",
       "      <td>NaN</td>\n",
       "      <td>NaN</td>\n",
       "      <td>NaN</td>\n",
       "      <td>0.001043</td>\n",
       "      <td>0.001060</td>\n",
       "    </tr>\n",
       "    <tr>\n",
       "      <th>2</th>\n",
       "      <td>chr2_p</td>\n",
       "      <td>chr2_p</td>\n",
       "      <td>2</td>\n",
       "      <td>84918</td>\n",
       "      <td>10842540.0</td>\n",
       "      <td>8344.916674</td>\n",
       "      <td>127.682470</td>\n",
       "      <td>0.098270</td>\n",
       "      <td>0.087228</td>\n",
       "      <td>0.088615</td>\n",
       "    </tr>\n",
       "    <tr>\n",
       "      <th>3</th>\n",
       "      <td>chr2_p</td>\n",
       "      <td>chr2_p</td>\n",
       "      <td>3</td>\n",
       "      <td>84649</td>\n",
       "      <td>4733321.0</td>\n",
       "      <td>3623.417357</td>\n",
       "      <td>55.917034</td>\n",
       "      <td>0.042805</td>\n",
       "      <td>0.043116</td>\n",
       "      <td>0.043947</td>\n",
       "    </tr>\n",
       "  </tbody>\n",
       "</table>\n",
       "</div>"
      ],
      "text/plain": [
       "  region1 region2  dist  n_valid   count.sum  balanced.sum   count.avg  \\\n",
       "0  chr2_p  chr2_p     0    86055         NaN           NaN         NaN   \n",
       "1  chr2_p  chr2_p     1    85282         NaN           NaN         NaN   \n",
       "2  chr2_p  chr2_p     2    84918  10842540.0   8344.916674  127.682470   \n",
       "3  chr2_p  chr2_p     3    84649   4733321.0   3623.417357   55.917034   \n",
       "\n",
       "   balanced.avg  balanced.avg.smoothed  balanced.avg.smoothed.agg  \n",
       "0           NaN                    NaN                        NaN  \n",
       "1           NaN               0.001043                   0.001060  \n",
       "2      0.098270               0.087228                   0.088615  \n",
       "3      0.042805               0.043116                   0.043947  "
      ]
     },
     "metadata": {},
     "output_type": "display_data"
    }
   ],
   "source": [
    "display(cvd_smooth_agg.head(4))"
   ]
  },
  {
   "cell_type": "code",
   "execution_count": 20,
   "metadata": {},
   "outputs": [
    {
     "data": {
      "image/png": "[encoded data removed]",
      "text/plain": [
       "<Figure size 921.6x633.6 with 1 Axes>"
      ]
     },
     "metadata": {
      "needs_background": "light"
     },
     "output_type": "display_data"
    }
   ],
   "source": [
    "cvd_smooth_agg['s_bp'] = cvd_smooth_agg['dist']* resolution\n",
    "cvd_smooth_agg['balanced.avg.smoothed'].loc[cvd_smooth_agg['dist'] < 2] = np.nan\n",
    "f, ax = plt.subplots(1,1)\n",
    "\n",
    "for region in hg38_arms['name']:\n",
    "    ax.loglog(\n",
    "        cvd_smooth_agg['s_bp'].loc[cvd_smooth_agg['region1']==region],\n",
    "        cvd_smooth_agg['balanced.avg.smoothed'].loc[cvd_smooth_agg['region1']==region],\n",
    "    )\n",
    "    ax.set(\n",
    "        xlabel='separation, bp', \n",
    "        ylabel='IC contact frequency')\n",
    "    ax.set_aspect(1.0)\n",
    "    ax.grid(lw=0.5)"
   ]
  },
  {
   "cell_type": "markdown",
   "metadata": {},
   "source": [
    "The 'balanced.avg.smoothed.agg' is averaged across regions, and shows the same exact curve for each."
   ]
  },
  {
   "cell_type": "code",
   "execution_count": 22,
   "metadata": {},
   "outputs": [
    {
     "data": {
      "image/png": "[encoded data removed]",
      "text/plain": [
       "<Figure size 921.6x633.6 with 1 Axes>"
      ]
     },
     "metadata": {
      "needs_background": "light"
     },
     "output_type": "display_data"
    }
   ],
   "source": [
    "cvd_smooth_agg['s_bp'] = cvd_smooth_agg['dist']* resolution\n",
    "cvd_smooth_agg['balanced.avg.smoothed.agg'].loc[cvd_smooth_agg['dist'] < 2] = np.nan\n",
    "f, ax = plt.subplots(1,1)\n",
    "\n",
    "for region in hg38_arms['name']:\n",
    "    ax.loglog(\n",
    "        cvd_smooth_agg['s_bp'].loc[cvd_smooth_agg['region1']==region],\n",
    "        cvd_smooth_agg['balanced.avg.smoothed.agg'].loc[cvd_smooth_agg['region1']==region],\n",
    "    )\n",
    "    ax.set(\n",
    "        xlabel='separation, bp', \n",
    "        ylabel='IC contact frequency')\n",
    "    ax.set_aspect(1.0)\n",
    "    ax.grid(lw=0.5)"
   ]
  },
  {
   "cell_type": "markdown",
   "metadata": {},
   "source": [
    "#### Plot the smoothed P(s) curve and its derivative"
   ]
  },
  {
   "cell_type": "markdown",
   "metadata": {},
   "source": [
    "Logbin-smoothing of P(s) reduces the \"fanning\" at longer s and enables us to plot the derivative of the P(s) curve in the log-log space. This derivative is extremely informative, as it can be compared to predictions from various polymer models.\n",
    "\n",
    "This can currently be calculated with the `logbin_expected` function from the cvd table."
   ]
  },
  {
   "cell_type": "code",
   "execution_count": 23,
   "metadata": {},
   "outputs": [],
   "source": [
    "# Logbin-expected aggregates P(s) curves per region over exponentially increasing distance bins.\n",
    "lb_cvd, lb_slopes, lb_distbins = cooltools.api.expected.logbin_expected(cvd)\n",
    "\n",
    "# The resulting table contains P(s) curves for each individual region.\n",
    "# Cooltools has another function to aggregate these curves into a single genome-wide curve.\n",
    "lb_cvd_agg, lb_slopes_agg = cooltools.api.expected.combine_binned_expected(\n",
    "    lb_cvd,\n",
    "    binned_exp_slope=lb_slopes\n",
    ")\n",
    "\n",
    "lb_cvd_agg['s_bp'] = lb_cvd_agg['dist.avg'] * clr.binsize \n",
    "lb_slopes_agg['s_bp'] = lb_slopes_agg['dist.avg'] * clr.binsize "
   ]
  },
  {
   "cell_type": "code",
   "execution_count": 24,
   "metadata": {},
   "outputs": [
    {
     "data": {
      "image/png": "[encoded data removed]",
      "text/plain": [
       "<Figure size 468x936 with 2 Axes>"
      ]
     },
     "metadata": {
      "needs_background": "light"
     },
     "output_type": "display_data"
    }
   ],
   "source": [
    "f, axs = plt.subplots(\n",
    "    figsize=(6.5,13),\n",
    "    nrows=2, \n",
    "    gridspec_kw={'height_ratios':[6,2]}, \n",
    "    sharex=True)\n",
    "ax = axs[0]\n",
    "ax.loglog(\n",
    "    lb_cvd_agg['s_bp'],\n",
    "    lb_cvd_agg['balanced.avg'],\n",
    "    'o-',\n",
    "    markersize=5,\n",
    ")\n",
    "\n",
    "ax.set(\n",
    "    ylabel='IC contact frequency',\n",
    "    xlim=(1e3,1e8)\n",
    ")\n",
    "ax.set_aspect(1.0)\n",
    "ax.grid(lw=0.5)\n",
    "\n",
    "\n",
    "ax = axs[1]\n",
    "ax.semilogx(\n",
    "    lb_slopes_agg['s_bp'],\n",
    "    lb_slopes_agg['slope'],\n",
    "    alpha=0.5\n",
    ")\n",
    "\n",
    "ax.set(\n",
    "    xlabel='separation, bp', \n",
    "    ylabel='slope')\n",
    "\n",
    "ax.grid(lw=0.5)"
   ]
  },
  {
   "cell_type": "markdown",
   "metadata": {},
   "source": [
    "### Plot the P(s) curve for interactions between different regions."
   ]
  },
  {
   "cell_type": "markdown",
   "metadata": {},
   "source": [
    "Finally, we can plot P(s) curves for contacts between loci that belong to different regions. \n",
    "\n",
    "A commonly considered situation is for trans-arm interactions, i.e. contacts between loci on the opposite side of a centromere. Such P(s) can be calculated via `cooltools.expected_cis` by passing `intra_only=False`."
   ]
  },
  {
   "cell_type": "code",
   "execution_count": 25,
   "metadata": {},
   "outputs": [
    {
     "ename": "ValueError",
     "evalue": "view_df is not a valid viewframe or incompatible",
     "output_type": "error",
     "traceback": [
      "\u001b[0;31m---------------------------------------------------------------------------\u001b[0m",
      "\u001b[0;31mValueError\u001b[0m                                Traceback (most recent call last)",
      "\u001b[0;32m~/repositories/cooltools/cooltools/lib/common.py\u001b[0m in \u001b[0;36mis_compatible_viewframe\u001b[0;34m(view_df, verify_cooler, check_sorting, raise_errors)\u001b[0m\n\u001b[1;32m    924\u001b[0m                 raise ValueError(\n\u001b[0;32m--> 925\u001b[0;31m                     \u001b[0;34m\"regions in the view_df must be sorted by coordinate\"\u001b[0m\u001b[0;34m\u001b[0m\u001b[0;34m\u001b[0m\u001b[0m\n\u001b[0m\u001b[1;32m    926\u001b[0m                     \u001b[0;34m\" and chromosomes order as as in the verify_cooler.\"\u001b[0m\u001b[0;34m\u001b[0m\u001b[0;34m\u001b[0m\u001b[0m\n",
      "\u001b[0;31mValueError\u001b[0m: regions in the view_df must be sorted by coordinate and chromosomes order as as in the verify_cooler.",
      "\nThe above exception was the direct cause of the following exception:\n",
      "\u001b[0;31mValueError\u001b[0m                                Traceback (most recent call last)",
      "\u001b[0;32m~/repositories/cooltools/cooltools/api/expected.py\u001b[0m in \u001b[0;36mexpected_cis\u001b[0;34m(clr, view_df, intra_only, smooth, aggregate_smoothed, smooth_sigma, clr_weight_name, ignore_diags, chunksize, nproc)\u001b[0m\n\u001b[1;32m   1080\u001b[0m                 \u001b[0mcheck_sorting\u001b[0m\u001b[0;34m=\u001b[0m\u001b[0;34m(\u001b[0m\u001b[0;32mnot\u001b[0m \u001b[0mintra_only\u001b[0m\u001b[0;34m)\u001b[0m\u001b[0;34m,\u001b[0m\u001b[0;34m\u001b[0m\u001b[0;34m\u001b[0m\u001b[0m\n\u001b[0;32m-> 1081\u001b[0;31m                 \u001b[0mraise_errors\u001b[0m\u001b[0;34m=\u001b[0m\u001b[0;32mTrue\u001b[0m\u001b[0;34m,\u001b[0m\u001b[0;34m\u001b[0m\u001b[0;34m\u001b[0m\u001b[0m\n\u001b[0m\u001b[1;32m   1082\u001b[0m             )\n",
      "\u001b[0;32m~/repositories/cooltools/cooltools/lib/common.py\u001b[0m in \u001b[0;36mis_compatible_viewframe\u001b[0;34m(view_df, verify_cooler, check_sorting, raise_errors)\u001b[0m\n\u001b[1;32m    930\u001b[0m         \u001b[0;32mif\u001b[0m \u001b[0mraise_errors\u001b[0m\u001b[0;34m:\u001b[0m\u001b[0;34m\u001b[0m\u001b[0;34m\u001b[0m\u001b[0m\n\u001b[0;32m--> 931\u001b[0;31m             \u001b[0;32mraise\u001b[0m \u001b[0mValueError\u001b[0m\u001b[0;34m(\u001b[0m\u001b[0;34m\"view_df is not compatible, or not a viewframe\"\u001b[0m\u001b[0;34m)\u001b[0m \u001b[0;32mfrom\u001b[0m \u001b[0me\u001b[0m\u001b[0;34m\u001b[0m\u001b[0;34m\u001b[0m\u001b[0m\n\u001b[0m\u001b[1;32m    932\u001b[0m         \u001b[0;32melse\u001b[0m\u001b[0;34m:\u001b[0m\u001b[0;34m\u001b[0m\u001b[0;34m\u001b[0m\u001b[0m\n",
      "\u001b[0;31mValueError\u001b[0m: view_df is not compatible, or not a viewframe",
      "\nThe above exception was the direct cause of the following exception:\n",
      "\u001b[0;31mValueError\u001b[0m                                Traceback (most recent call last)",
      "\u001b[0;32m/var/folders/4s/d866wm3s4zbc9m41334fxfwr0000gp/T/ipykernel_63010/243186400.py\u001b[0m in \u001b[0;36m<module>\u001b[0;34m\u001b[0m\n\u001b[1;32m      3\u001b[0m     \u001b[0mclr\u001b[0m\u001b[0;34m=\u001b[0m\u001b[0mclr\u001b[0m\u001b[0;34m,\u001b[0m\u001b[0;34m\u001b[0m\u001b[0;34m\u001b[0m\u001b[0m\n\u001b[1;32m      4\u001b[0m     \u001b[0mview_df\u001b[0m\u001b[0;34m=\u001b[0m\u001b[0mhg38_arms\u001b[0m\u001b[0;34m,\u001b[0m\u001b[0;34m\u001b[0m\u001b[0;34m\u001b[0m\u001b[0m\n\u001b[0;32m----> 5\u001b[0;31m     \u001b[0mintra_only\u001b[0m\u001b[0;34m=\u001b[0m\u001b[0;32mFalse\u001b[0m\u001b[0;34m,\u001b[0m\u001b[0;34m\u001b[0m\u001b[0;34m\u001b[0m\u001b[0m\n\u001b[0m\u001b[1;32m      6\u001b[0m )\n\u001b[1;32m      7\u001b[0m \u001b[0;31m# select only inter-arm interactions:\u001b[0m\u001b[0;34m\u001b[0m\u001b[0;34m\u001b[0m\u001b[0;34m\u001b[0m\u001b[0m\n",
      "\u001b[0;32m~/repositories/cooltools/cooltools/api/expected.py\u001b[0m in \u001b[0;36mexpected_cis\u001b[0;34m(clr, view_df, intra_only, smooth, aggregate_smoothed, smooth_sigma, clr_weight_name, ignore_diags, chunksize, nproc)\u001b[0m\n\u001b[1;32m   1082\u001b[0m             )\n\u001b[1;32m   1083\u001b[0m         \u001b[0;32mexcept\u001b[0m \u001b[0mException\u001b[0m \u001b[0;32mas\u001b[0m \u001b[0me\u001b[0m\u001b[0;34m:\u001b[0m\u001b[0;34m\u001b[0m\u001b[0;34m\u001b[0m\u001b[0m\n\u001b[0;32m-> 1084\u001b[0;31m             \u001b[0;32mraise\u001b[0m \u001b[0mValueError\u001b[0m\u001b[0;34m(\u001b[0m\u001b[0;34m\"view_df is not a valid viewframe or incompatible\"\u001b[0m\u001b[0;34m)\u001b[0m \u001b[0;32mfrom\u001b[0m \u001b[0me\u001b[0m\u001b[0;34m\u001b[0m\u001b[0;34m\u001b[0m\u001b[0m\n\u001b[0m\u001b[1;32m   1085\u001b[0m \u001b[0;34m\u001b[0m\u001b[0m\n\u001b[1;32m   1086\u001b[0m     \u001b[0;31m# define transforms - balanced and raw ('count') for now\u001b[0m\u001b[0;34m\u001b[0m\u001b[0;34m\u001b[0m\u001b[0;34m\u001b[0m\u001b[0m\n",
      "\u001b[0;31mValueError\u001b[0m: view_df is not a valid viewframe or incompatible"
     ]
    }
   ],
   "source": [
    "# cvd_inter == contacts-vs-distance between chromosomal arms\n",
    "cvd_inter = cooltools.expected_cis(\n",
    "    clr=clr,\n",
    "    view_df=hg38_arms,\n",
    "    intra_only=False,\n",
    ")\n",
    "# select only inter-arm interactions:\n",
    "cvd_inter = cvd_inter[ cvd_inter[\"region1\"] != cvd_inter[\"region2\"] ]"
   ]
  },
  {
   "cell_type": "code",
   "execution_count": null,
   "metadata": {},
   "outputs": [],
   "source": [
    "# Logbin-expected aggregates P(s) curves per region over exponentially increasing distance bins.\n",
    "cvd_inter['region'] = cvd_inter['region1'] + '&' + cvd_inter['region2']\n",
    "lb_inter_cvd, lb_inter_slopes, lb_inter_distbins = cooltools.api.expected.logbin_expected(cvd_inter)\n",
    "\n",
    "# The resulting table contains P(s) curves for each individual region.\n",
    "lb_cvd_inter_agg, lb_inter_slopes_agg = cooltools.api.expected.combine_binned_expected(\n",
    "    lb_inter_cvd,\n",
    "    lb_inter_slopes\n",
    ")\n",
    "\n",
    "lb_cvd_inter_agg['s_bp'] = lb_cvd_inter_agg['dist.avg'] * clr.binsize \n",
    "lb_inter_slopes_agg['s_bp'] = lb_inter_slopes_agg['dist.avg'] * clr.binsize \n"
   ]
  },
  {
   "cell_type": "code",
   "execution_count": null,
   "metadata": {},
   "outputs": [],
   "source": [
    "f, ax = plt.subplots(1,1,\n",
    "    figsize=(5,5),)\n",
    "\n",
    "ax.loglog(\n",
    "    lb_cvd_inter_agg['s_bp'],\n",
    "    lb_cvd_inter_agg['balanced.avg'],\n",
    "    marker='o',\n",
    "    markersize=5,\n",
    ")\n",
    "\n",
    "\n",
    "ax.set(\n",
    "    xlabel='separation, bp', \n",
    "    ylabel='IC contact frequency',\n",
    "    title=\"average interactions between chromosomal arms\")\n",
    "ax.grid(lw=0.5)\n",
    "ax.set_aspect(1.0)\n"
   ]
  },
  {
   "cell_type": "markdown",
   "metadata": {},
   "source": [
    "### Averaging interaction frequencies in blocks"
   ]
  },
  {
   "cell_type": "markdown",
   "metadata": {},
   "source": [
    "For *trans* (i.e. inter-chromosomal) interactions, the notion of \"genomic separation\" becomes irrelevant, as loci on different chromosomes are not connected by any polymer chain. Thus, the \"expected\" level of trans interactions is a scalar, the average interaction frequency for a given pair of chromosomes."
   ]
  },
  {
   "cell_type": "code",
   "execution_count": null,
   "metadata": {},
   "outputs": [],
   "source": [
    "# average contacts, in this case between pairs of chromosomal arms:\n",
    "ac = cooltools.expected_trans(\n",
    "    clr,\n",
    "    view_df = None  # full chromosomes as the view\n",
    ")\n",
    "\n",
    "# average raw interaction counts and normalized contact frequencies are already in the result\n",
    "ac"
   ]
  },
  {
   "cell_type": "code",
   "execution_count": null,
   "metadata": {},
   "outputs": [],
   "source": [
    "# pivot a table to generate a pair-wise average interaction heatmap:\n",
    "acp = (ac \n",
    "    .pivot_table(values=\"balanced.avg\",\n",
    "                 index=\"region1\",\n",
    "                 columns=\"region2\",\n",
    "                 observed=True) \n",
    "    .reindex(index=clr.chromnames,\n",
    "             columns=clr.chromnames)\n",
    ")"
   ]
  },
  {
   "cell_type": "code",
   "execution_count": null,
   "metadata": {},
   "outputs": [],
   "source": [
    "fs = 14\n",
    "\n",
    "f, axs = plt.subplots(\n",
    "    figsize=(6.0,5.5),\n",
    "    ncols=2,\n",
    "    gridspec_kw={'width_ratios':[20,1],\"wspace\":0.1},\n",
    ")\n",
    "# assign heatmap and colobar axis:\n",
    "ax, cax = axs\n",
    "# draw a heatmap, using log-scale for interaction freq-s:\n",
    "acpm = ax.imshow(\n",
    "    acp,\n",
    "    cmap=\"YlOrRd\",\n",
    "    norm=colors.LogNorm(),\n",
    "    aspect=1.0\n",
    ")\n",
    "# assign ticks and labels (ordered names of chromosome arms):\n",
    "ax.set(\n",
    "    xticks=range(len(clr.chromnames)),\n",
    "    yticks=range(len(clr.chromnames)),\n",
    "    title=\"average interactions\\nbetween chromosomes\",\n",
    ")\n",
    "ax.set_xticklabels(\n",
    "    clr.chromnames,\n",
    "    rotation=30,\n",
    "    horizontalalignment='right',\n",
    "    fontsize=fs\n",
    ")\n",
    "ax.set_yticklabels(\n",
    "    clr.chromnames,\n",
    "    fontsize=fs\n",
    ")\n",
    "# draw a colorbar of interaction frequencies for the heatmap:\n",
    "f.colorbar(\n",
    "    acpm,\n",
    "    cax=cax,\n",
    "    label='IC contact frequency'\n",
    ")\n",
    "\n",
    "# draw a grid around values:\n",
    "ax.set_xticks(\n",
    "    [x-0.5 for x in range(1,len(clr.chromnames))],\n",
    "    minor=True\n",
    ")\n",
    "ax.set_yticks(\n",
    "    [y-0.5 for y in range(1,len(clr.chromnames))],\n",
    "    minor=True\n",
    ")\n",
    "ax.grid(which=\"minor\")\n"
   ]
  }
 ],
 "metadata": {
  "kernelspec": {
   "display_name": "test-cooltools",
   "language": "python",
   "name": "test-cooltools"
  },
  "language_info": {
   "codemirror_mode": {
    "name": "ipython",
    "version": 3
   },
   "file_extension": ".py",
   "mimetype": "text/x-python",
   "name": "python",
   "nbconvert_exporter": "python",
   "pygments_lexer": "ipython3",
   "version": "3.7.11"
  }
 },
 "nbformat": 4,
 "nbformat_minor": 4
}
