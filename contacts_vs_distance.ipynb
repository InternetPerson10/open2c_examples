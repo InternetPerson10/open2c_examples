{
 "cells": [
  {
   "cell_type": "markdown",
   "metadata": {},
   "source": [
    "# Contacts vs distance"
   ]
  },
  {
   "cell_type": "markdown",
   "metadata": {},
   "source": [
    "Welcome to the cooltools expected & contacts-vs-distance notebook!\n",
    "\n",
    "Hi-C contact maps contain a variety of patterns-- that's why they are sometimes difficult to analyse :).\n",
    "\n",
    "The strongest signal in a typical Hi-C map is the decay of contact frequency with genomic separation. In the Hi-C field, this decay is often referred to as the:\n",
    "\n",
    "* **expected** (because one \"expects\" a certain average contact frequency at a given genomic separation)\n",
    "* **scaling** (which is borrowed from the polymer physics literature)\n",
    "* **P(s) curve** (contact *probability*, P, as a function of genomic *separation*, s). \n",
    "\n",
    "The monotonic decay of contacts with genomic separation is reflective of the polymeric nature of chromosomes and can tell us about the global folding patterns of the genome. \n",
    "\n",
    "The goals of this notebook are to:\n",
    "\n",
    "* calculate the P(s) of a given cooler\n",
    "* plot the P(s) curve\n",
    "* smooth the P(s) curve with logarithmic binning\n",
    "* plot the derivative of P(s)\n",
    "* plot the P(s) between two different genomic regions\n",
    "* plot the matrix of average contact frequencies between different chromosomes"
   ]
  },
  {
   "cell_type": "code",
   "execution_count": 2,
   "metadata": {},
   "outputs": [],
   "source": [
    "%load_ext autoreload\n",
    "%autoreload 2"
   ]
  },
  {
   "cell_type": "code",
   "execution_count": 3,
   "metadata": {},
   "outputs": [],
   "source": [
    "# import core packages\n",
    "import warnings\n",
    "warnings.filterwarnings(\"ignore\")\n",
    "from itertools import combinations\n",
    "\n",
    "# import semi-core packages\n",
    "import matplotlib.pyplot as plt\n",
    "from matplotlib import colors\n",
    "%matplotlib inline\n",
    "plt.style.use('seaborn-poster')\n",
    "import numpy as np\n",
    "import pandas as pd\n",
    "\n",
    "# import open2c libraries\n",
    "import bioframe\n",
    "\n",
    "import cooler\n",
    "import cooltools\n",
    "import cooltools.expected"
   ]
  },
  {
   "cell_type": "code",
   "execution_count": 4,
   "metadata": {},
   "outputs": [
    {
     "name": "stdout",
     "output_type": "stream",
     "text": [
      "./test.mcool\n"
     ]
    }
   ],
   "source": [
    "# download test data\n",
    "# this file is 145 Mb, and may take a few seconds to download\n",
    "cool_file = cooltools.download_data(\"HFF_MicroC\", cache=True, data_dir='./')    \n",
    "print(cool_file)"
   ]
  },
  {
   "cell_type": "code",
   "execution_count": 8,
   "metadata": {},
   "outputs": [],
   "source": [
    "# Load a Hi-C map at a 1kb resolution from a cooler file.\n",
    "clr = cooler.Cooler('./test.mcool::/resolutions/1000')"
   ]
  },
  {
   "cell_type": "markdown",
   "metadata": {},
   "source": [
    "In addition to data stored in a cooler, the analyses below make use\n",
    "of where chromosomal arms start and stop to calculate contact frequency versus distance curves\n",
    "within arms. For commonly-used genomes, bioframe can be used to fetch these \n",
    "annotations directly from UCSC. For less commonly-used genomes, a table of arms, or chromosomes \n",
    "can be loaded in directly with pandas, e.g.  \n",
    "\n",
    "`chromsizes = pd.read_csv('chrom.sizes', sep='\\t')`\n",
    "\n",
    "Regions for calculating expected should be provided as a [viewFrame](https://bioframe.readthedocs.io/en/latest/guide-intervalops.html#genomic-views), i.e. a dataframe with four columns, chrom, start, stop, name,\n",
    "where entries in the name column are unique and the intervals are non-overlapping. If the chromsizes table does not have a name column, it can be created with  `bioframe.core.construction.add_ucsc_name_column(bioframe.make_viewframe(chromsizes))`."
   ]
  },
  {
   "cell_type": "code",
   "execution_count": 17,
   "metadata": {},
   "outputs": [
    {
     "data": {
      "text/html": [
       "<div>\n",
       "<style scoped>\n",
       "    .dataframe tbody tr th:only-of-type {\n",
       "        vertical-align: middle;\n",
       "    }\n",
       "\n",
       "    .dataframe tbody tr th {\n",
       "        vertical-align: top;\n",
       "    }\n",
       "\n",
       "    .dataframe thead th {\n",
       "        text-align: right;\n",
       "    }\n",
       "</style>\n",
       "<table border=\"1\" class=\"dataframe\">\n",
       "  <thead>\n",
       "    <tr style=\"text-align: right;\">\n",
       "      <th></th>\n",
       "      <th>chrom</th>\n",
       "      <th>start</th>\n",
       "      <th>end</th>\n",
       "      <th>name</th>\n",
       "    </tr>\n",
       "  </thead>\n",
       "  <tbody>\n",
       "    <tr>\n",
       "      <th>0</th>\n",
       "      <td>chr2</td>\n",
       "      <td>0</td>\n",
       "      <td>93139351</td>\n",
       "      <td>chr2:0-93139351</td>\n",
       "    </tr>\n",
       "    <tr>\n",
       "      <th>1</th>\n",
       "      <td>chr2</td>\n",
       "      <td>93139351</td>\n",
       "      <td>242193529</td>\n",
       "      <td>chr2:93139351-242193529</td>\n",
       "    </tr>\n",
       "    <tr>\n",
       "      <th>2</th>\n",
       "      <td>chr17</td>\n",
       "      <td>0</td>\n",
       "      <td>24714921</td>\n",
       "      <td>chr17:0-24714921</td>\n",
       "    </tr>\n",
       "    <tr>\n",
       "      <th>3</th>\n",
       "      <td>chr17</td>\n",
       "      <td>24714921</td>\n",
       "      <td>83257441</td>\n",
       "      <td>chr17:24714921-83257441</td>\n",
       "    </tr>\n",
       "  </tbody>\n",
       "</table>\n",
       "</div>"
      ],
      "text/plain": [
       "   chrom     start        end                     name\n",
       "0   chr2         0   93139351          chr2:0-93139351\n",
       "1   chr2  93139351  242193529  chr2:93139351-242193529\n",
       "2  chr17         0   24714921         chr17:0-24714921\n",
       "3  chr17  24714921   83257441  chr17:24714921-83257441"
      ]
     },
     "execution_count": 17,
     "metadata": {},
     "output_type": "execute_result"
    }
   ],
   "source": [
    "# Use bioframe to fetch the genomic features from the UCSC.\n",
    "hg38_chromsizes = bioframe.fetch_chromsizes('hg38')\n",
    "hg38_cens = bioframe.fetch_centromeres('hg38')\n",
    "hg38_arms = bioframe.core.construction.add_ucsc_name_column(bioframe.make_chromarms(hg38_chromsizes,  hg38_cens))\n",
    "\n",
    "hg38_arms = hg38_arms[hg38_arms.chrom.isin(clr.chromnames)].reset_index(drop=True)\n",
    "hg38_arms"
   ]
  },
  {
   "cell_type": "markdown",
   "metadata": {},
   "source": [
    "### Calculate the P(s) curve"
   ]
  },
  {
   "cell_type": "markdown",
   "metadata": {},
   "source": [
    "To calculate the average contact frequency as a function of genomic separation, we will rely on the fact that each diagonal of a Hi-C map contains interactions between loci separated by the same distance. For example, the 3rd diagonal of our matrix contains interactions between loci separated by 3-4kb (note that diagonals are 0-indexed). Thus, we calculate the average P(s) at a given distance s as the average value of all pixels of the corresponding diagonal. This operation is performed by `cooltools.expected.diagsum`.\n",
    "\n",
    "Note that we calculate the P(s) separately for each chromosomal **arm**. This way we will ignore interactions accross the centromere, which is generally a good idea, since such interacts typically decay differently."
   ]
  },
  {
   "cell_type": "code",
   "execution_count": 18,
   "metadata": {},
   "outputs": [],
   "source": [
    "# cvd == contacts-vs-distance\n",
    "cvd = cooltools.expected.diagsum(\n",
    "    clr=clr,\n",
    "    view_df=hg38_arms,\n",
    "    transforms={'balanced': lambda p: p['count']*p['weight1']*p['weight2']}\n",
    ")"
   ]
  },
  {
   "cell_type": "markdown",
   "metadata": {},
   "source": [
    "`cooltools.expected.diagsum` calculates the sum of raw and normalized interaction counts (`count.sum` and `balanced.sum`) for each diagonal of a Hi-C map.\n",
    "It also provides the number of valid (i.e. non-masked) pixels at each diagonal, `n_valid`, so that we can calculate the average contact frequency later."
   ]
  },
  {
   "cell_type": "code",
   "execution_count": 19,
   "metadata": {},
   "outputs": [
    {
     "data": {
      "text/html": [
       "<div>\n",
       "<style scoped>\n",
       "    .dataframe tbody tr th:only-of-type {\n",
       "        vertical-align: middle;\n",
       "    }\n",
       "\n",
       "    .dataframe tbody tr th {\n",
       "        vertical-align: top;\n",
       "    }\n",
       "\n",
       "    .dataframe thead th {\n",
       "        text-align: right;\n",
       "    }\n",
       "</style>\n",
       "<table border=\"1\" class=\"dataframe\">\n",
       "  <thead>\n",
       "    <tr style=\"text-align: right;\">\n",
       "      <th></th>\n",
       "      <th>region</th>\n",
       "      <th>diag</th>\n",
       "      <th>n_valid</th>\n",
       "      <th>count.sum</th>\n",
       "      <th>balanced.sum</th>\n",
       "    </tr>\n",
       "  </thead>\n",
       "  <tbody>\n",
       "    <tr>\n",
       "      <th>0</th>\n",
       "      <td>chr2:0-93139351</td>\n",
       "      <td>0</td>\n",
       "      <td>86055</td>\n",
       "      <td>NaN</td>\n",
       "      <td>NaN</td>\n",
       "    </tr>\n",
       "    <tr>\n",
       "      <th>1</th>\n",
       "      <td>chr2:0-93139351</td>\n",
       "      <td>1</td>\n",
       "      <td>85282</td>\n",
       "      <td>NaN</td>\n",
       "      <td>NaN</td>\n",
       "    </tr>\n",
       "    <tr>\n",
       "      <th>2</th>\n",
       "      <td>chr2:0-93139351</td>\n",
       "      <td>2</td>\n",
       "      <td>84918</td>\n",
       "      <td>10859113.0</td>\n",
       "      <td>8344.916674</td>\n",
       "    </tr>\n",
       "    <tr>\n",
       "      <th>3</th>\n",
       "      <td>chr2:0-93139351</td>\n",
       "      <td>3</td>\n",
       "      <td>84649</td>\n",
       "      <td>4742194.0</td>\n",
       "      <td>3623.417357</td>\n",
       "    </tr>\n",
       "  </tbody>\n",
       "</table>\n",
       "</div>"
      ],
      "text/plain": [
       "            region  diag  n_valid   count.sum  balanced.sum\n",
       "0  chr2:0-93139351     0    86055         NaN           NaN\n",
       "1  chr2:0-93139351     1    85282         NaN           NaN\n",
       "2  chr2:0-93139351     2    84918  10859113.0   8344.916674\n",
       "3  chr2:0-93139351     3    84649   4742194.0   3623.417357"
      ]
     },
     "metadata": {},
     "output_type": "display_data"
    },
    {
     "data": {
      "text/html": [
       "<div>\n",
       "<style scoped>\n",
       "    .dataframe tbody tr th:only-of-type {\n",
       "        vertical-align: middle;\n",
       "    }\n",
       "\n",
       "    .dataframe tbody tr th {\n",
       "        vertical-align: top;\n",
       "    }\n",
       "\n",
       "    .dataframe thead th {\n",
       "        text-align: right;\n",
       "    }\n",
       "</style>\n",
       "<table border=\"1\" class=\"dataframe\">\n",
       "  <thead>\n",
       "    <tr style=\"text-align: right;\">\n",
       "      <th></th>\n",
       "      <th>region</th>\n",
       "      <th>diag</th>\n",
       "      <th>n_valid</th>\n",
       "      <th>count.sum</th>\n",
       "      <th>balanced.sum</th>\n",
       "    </tr>\n",
       "  </thead>\n",
       "  <tbody>\n",
       "    <tr>\n",
       "      <th>325450</th>\n",
       "      <td>chr17:24714921-83257441</td>\n",
       "      <td>58540</td>\n",
       "      <td>0</td>\n",
       "      <td>0.0</td>\n",
       "      <td>0.0</td>\n",
       "    </tr>\n",
       "    <tr>\n",
       "      <th>325451</th>\n",
       "      <td>chr17:24714921-83257441</td>\n",
       "      <td>58541</td>\n",
       "      <td>0</td>\n",
       "      <td>0.0</td>\n",
       "      <td>0.0</td>\n",
       "    </tr>\n",
       "    <tr>\n",
       "      <th>325452</th>\n",
       "      <td>chr17:24714921-83257441</td>\n",
       "      <td>58542</td>\n",
       "      <td>0</td>\n",
       "      <td>0.0</td>\n",
       "      <td>0.0</td>\n",
       "    </tr>\n",
       "    <tr>\n",
       "      <th>325453</th>\n",
       "      <td>chr17:24714921-83257441</td>\n",
       "      <td>58543</td>\n",
       "      <td>0</td>\n",
       "      <td>0.0</td>\n",
       "      <td>0.0</td>\n",
       "    </tr>\n",
       "  </tbody>\n",
       "</table>\n",
       "</div>"
      ],
      "text/plain": [
       "                         region   diag  n_valid  count.sum  balanced.sum\n",
       "325450  chr17:24714921-83257441  58540        0        0.0           0.0\n",
       "325451  chr17:24714921-83257441  58541        0        0.0           0.0\n",
       "325452  chr17:24714921-83257441  58542        0        0.0           0.0\n",
       "325453  chr17:24714921-83257441  58543        0        0.0           0.0"
      ]
     },
     "metadata": {},
     "output_type": "display_data"
    }
   ],
   "source": [
    "display(cvd.head(4))\n",
    "display(cvd.tail(4))"
   ]
  },
  {
   "cell_type": "markdown",
   "metadata": {},
   "source": [
    "Note that the data from first couple of diagonals are masked. This is done intentionally, since interactions at these diagonals (very short-ranged) are contaminated by non-informative Hi-C byproducts - dangling ends and self-circles. \n",
    "\n",
    "`cooltools.expected.diagsum` treats each genomic region separately and does not aggregate the results automatically. This reflects the overall philosophy of cooltools, according to which we strive to provide access to data at different levels of aggregation. For example, with the python API, a user may want to check if *P(s)* differs between regions. \n",
    "\n",
    "In this notebook, however, we are only interested in the genome-average *P(s)*, so we need to aggregate results from different regions together. This can be easily done via the pandas groupby functionality:"
   ]
  },
  {
   "cell_type": "code",
   "execution_count": 20,
   "metadata": {},
   "outputs": [],
   "source": [
    "# Aggregate diagonals from different genomic regions together. \n",
    "# Since all three calcuated statistics are additive, they can be aggregated\n",
    "# easily via sum() functiond.\n",
    "cvd_agg = (\n",
    "    cvd\n",
    "    .groupby('diag')\n",
    "    .agg(\n",
    "        {'n_valid':'sum',\n",
    "         'count.sum':'sum',\n",
    "         'balanced.sum':'sum',\n",
    "        })\n",
    "    .reset_index()\n",
    ")\n",
    "\n",
    "# Convert indices of diagonals into genomic separation, expressed in basepairs.\n",
    "cvd_agg['s_bp'] = (\n",
    "    cvd_agg['diag'] \n",
    "    * clr.binsize)\n",
    "\n",
    "# Now we can calculate the average raw interaction counts and normalized contact frequencies.\n",
    "cvd_agg['count.avg'] = (\n",
    "    cvd_agg['count.sum']\n",
    "    / cvd_agg['n_valid']\n",
    ")\n",
    "\n",
    "cvd_agg['balanced.avg'] = (\n",
    "    cvd_agg['balanced.sum']\n",
    "    / cvd_agg['n_valid']\n",
    ")"
   ]
  },
  {
   "cell_type": "markdown",
   "metadata": {},
   "source": [
    "### Plot the P(s) curve"
   ]
  },
  {
   "cell_type": "markdown",
   "metadata": {},
   "source": [
    "Time to plot our P(s)! \n",
    "The challenge here is that Hi-C has a uniquely wide dynamic range. Hi-C probes genomic separations ranging from 100s to 100,000,000s of basepairs; the contact frequencies too tend to span many orders of magnitude.\n",
    "Plotting such data in the linear scale would reveal only a part of the whole picture. Instead, we should switch to double logarithmic (aka log-log) coordinates, where the x and y coordinates would correspond to the orders of magnitude of our data."
   ]
  },
  {
   "cell_type": "code",
   "execution_count": 32,
   "metadata": {},
   "outputs": [],
   "source": [
    "cvd_agg.loc[0:1, :] = np.nan; #since pandas groupby replaces nan with zero"
   ]
  },
  {
   "cell_type": "code",
   "execution_count": 33,
   "metadata": {},
   "outputs": [
    {
     "data": {
      "image/png": "[encoded data removed]",
      "text/plain": [
       "<Figure size 921.6x633.6 with 1 Axes>"
      ]
     },
     "metadata": {
      "needs_background": "light"
     },
     "output_type": "display_data"
    }
   ],
   "source": [
    "f, ax = plt.subplots(1,1)\n",
    "ax.loglog(\n",
    "    cvd_agg['s_bp'],\n",
    "    cvd_agg['balanced.avg'],\n",
    ")\n",
    "ax.set(\n",
    "    xlabel='separation, bp', \n",
    "    ylabel='IC contact frequency')\n",
    "ax.set_aspect(1.0)\n",
    "ax.grid(lw=0.5)"
   ]
  },
  {
   "cell_type": "markdown",
   "metadata": {},
   "source": [
    "With this data, we also have an opportunity to test the effect of matrix balancing on the P(s) curve. Though, raw and balanced Hi-C data have different units, counts vs frequencies-that-sum-to-1.0. So, to plot the two on the same canvas, we have to normalize them to the same scale. Generally, there is no \"best\" way to normalize P(s) curves, different approaches rely on different assumptions, which are almost never true. The simplest assumption we can make is that our two P(s) curves must match at short distances."
   ]
  },
  {
   "cell_type": "code",
   "execution_count": 34,
   "metadata": {},
   "outputs": [
    {
     "data": {
      "image/png": "[encoded data removed]",
      "text/plain": [
       "<Figure size 921.6x633.6 with 1 Axes>"
      ]
     },
     "metadata": {
      "needs_background": "light"
     },
     "output_type": "display_data"
    }
   ],
   "source": [
    "f, ax = plt.subplots(1,1)\n",
    "# Below we normalize both P(s) curves by their first non-zero value \n",
    "# (remember that we mask the first 2 diagonals).\n",
    "ax.loglog(\n",
    "    cvd_agg['s_bp'],\n",
    "    cvd_agg['balanced.avg'] / cvd_agg['balanced.avg'].iloc[2],\n",
    "    alpha=0.5,\n",
    "    label='balanced'\n",
    ")\n",
    "ax.loglog(\n",
    "    cvd_agg['s_bp'],\n",
    "    cvd_agg['count.avg'] / cvd_agg['count.avg'].iloc[2],\n",
    "    alpha=0.5,\n",
    "    label='raw'\n",
    ")\n",
    "\n",
    "ax.set(\n",
    "    xlabel='separation, bp', \n",
    "    ylabel='IC contact frequency')\n",
    "ax.set_aspect(1.0)\n",
    "ax.grid(lw=0.5)\n",
    "_=ax.legend()"
   ]
  },
  {
   "cell_type": "markdown",
   "metadata": {},
   "source": [
    "As you can see, the shape of P(s) curves is *almost* not affected by balancing."
   ]
  },
  {
   "cell_type": "markdown",
   "metadata": {},
   "source": [
    "### Smooth the P(s) curve with logarithmic binning."
   ]
  },
  {
   "cell_type": "markdown",
   "metadata": {},
   "source": [
    "The curves plotted above form characteristic \"fans\" at longer separations. This happens for two reasons: (a) we plot values of **each** diagonal separately and thus each decade of s contains 10x more points, and (b) due to the polymer nature of chromosomes, interactions at longer separations are weaker and thus more affected by counting noise.  \n",
    "\n",
    "This issue is more that just cosmetic, as this noise would prevent us from doing finer analyses of P(s) and propagate into data derived from P(s). However, there is a simple solution: we can calculate P(s) not for individual diagonals, but rather for whole groups of consecutive diagonals (a.k.a. distance bins). This works, because P(s) changes very gradually with s, so that consecutive diagonals have very similar values. Furthermore, we can make each next distance bin wider than the previous one, so that each order of magnitude of s is contains the same number of bins. Such aggregation is a bit involving, but `cooltools.expected` provides this function out of the box."
   ]
  },
  {
   "cell_type": "code",
   "execution_count": 35,
   "metadata": {},
   "outputs": [],
   "source": [
    "# Logbin-expected aggregates P(s) curves per region over exponentially increasing distance bins.\n",
    "lb_cvd, lb_slopes, lb_distbins = cooltools.expected.logbin_expected(cvd)\n",
    "\n",
    "# The resulting table contains P(s) curves for each individual region.\n",
    "# Aggregating these curves into a single genome-wide curve is involving too, \n",
    "# so we created a separate function for this too.\n",
    "lb_cvd_agg, lb_slopes_agg = cooltools.expected.combine_binned_expected(\n",
    "    lb_cvd,\n",
    "    binned_exp_slope=lb_slopes\n",
    ")\n",
    "\n",
    "lb_cvd_agg['s_bp'] = lb_cvd_agg['diag.avg'] * clr.binsize \n",
    "lb_slopes_agg['s_bp'] = lb_slopes_agg['diag.avg'] * clr.binsize "
   ]
  },
  {
   "cell_type": "markdown",
   "metadata": {},
   "source": [
    "### Plot the smoothed P(s) curve and its derivative"
   ]
  },
  {
   "cell_type": "markdown",
   "metadata": {},
   "source": [
    "Logbin-smoothing of P(s) reduces the \"fanning\" at longer s and enables us to plot the derivative of the P(s) curve in the log-log space. This derivative is extremely informative, as it can be compared to predictions from various polymer models."
   ]
  },
  {
   "cell_type": "code",
   "execution_count": 36,
   "metadata": {},
   "outputs": [
    {
     "data": {
      "image/png": "[encoded data removed]",
      "text/plain": [
       "<Figure size 468x936 with 2 Axes>"
      ]
     },
     "metadata": {
      "needs_background": "light"
     },
     "output_type": "display_data"
    }
   ],
   "source": [
    "f, axs = plt.subplots(\n",
    "    figsize=(6.5,13),\n",
    "    nrows=2, \n",
    "    gridspec_kw={'height_ratios':[6,2]}, \n",
    "    sharex=True)\n",
    "ax = axs[0]\n",
    "ax.loglog(\n",
    "    lb_cvd_agg['s_bp'],\n",
    "    lb_cvd_agg['balanced.avg'],\n",
    "    'o-',\n",
    "    markersize=5,\n",
    ")\n",
    "\n",
    "ax.set(\n",
    "    ylabel='IC contact frequency',\n",
    "    xlim=(1e3,1e8)\n",
    ")\n",
    "ax.set_aspect(1.0)\n",
    "ax.grid(lw=0.5)\n",
    "\n",
    "\n",
    "ax = axs[1]\n",
    "ax.semilogx(\n",
    "    lb_slopes_agg['s_bp'],\n",
    "    lb_slopes_agg['slope'],\n",
    "    alpha=0.5\n",
    ")\n",
    "\n",
    "ax.set(\n",
    "    xlabel='separation, bp', \n",
    "    ylabel='slope')\n",
    "\n",
    "ax.grid(lw=0.5)"
   ]
  },
  {
   "cell_type": "markdown",
   "metadata": {},
   "source": [
    "### Plot the P(s) curve for interactions between different regions."
   ]
  },
  {
   "cell_type": "markdown",
   "metadata": {},
   "source": [
    "Finally, we can plot P(s) curves for interactions between loci that belong to different regions. An obvious example is the trans-arm interactions, i.e. interactions between loci on the opposite side of a centromere. Such P(s) can be calculated via `cooltools.expected.diagsum_asymm`"
   ]
  },
  {
   "cell_type": "code",
   "execution_count": 37,
   "metadata": {},
   "outputs": [],
   "source": [
    "# create two sets of left and right arms, matching each other (cis-ones):\n",
    "gb = hg38_arms[hg38_arms.chrom.isin(clr.chromnames)].groupby('chrom')\n",
    "left_arms = gb.nth(0).reset_index()\n",
    "right_arms = gb.nth(1).reset_index()"
   ]
  },
  {
   "cell_type": "code",
   "execution_count": 1,
   "metadata": {},
   "outputs": [],
   "source": [
    "# # cvd_inter == contacts-vs-distance between chromosomal arms\n",
    "# # The region pairs must be provided as two lists with syncronyzed order.\n",
    "# cvd_inter = cooltools.expected.diagsum_asymm(\n",
    "#     clr=clr,\n",
    "#     regions1=left_arms,\n",
    "#     regions2=right_arms,\n",
    "#     transforms={'balanced': lambda p: p['count']*p['weight1']*p['weight2']}\n",
    "# )"
   ]
  },
  {
   "cell_type": "code",
   "execution_count": 2,
   "metadata": {},
   "outputs": [],
   "source": [
    "# # Logbin-expected aggregates P(s) curves per region over exponentially increasing distance bins.\n",
    "# cvd_inter['region'] = cvd_inter['region1'] + '&' + cvd_inter['region2']\n",
    "# lb_inter_cvd, lb_inter_slopes, lb_inter_distbins = cooltools.expected.logbin_expected(cvd_inter)\n",
    "\n",
    "# # The resulting table contains P(s) curves for each individual region.\n",
    "# # Aggregating these curves into a single genome-wide curve is involving too, \n",
    "# # so we created a separate function for this too.\n",
    "# lb_cvd_inter_agg, lb_inter_slopes_agg = cooltools.expected.combine_binned_expected(\n",
    "#     lb_inter_cvd,\n",
    "#     lb_inter_slopes\n",
    "# )\n",
    "\n",
    "# lb_cvd_inter_agg['s_bp'] = lb_cvd_inter_agg['diag.avg'] * clr.binsize \n",
    "# lb_inter_slopes_agg['s_bp'] = lb_inter_slopes_agg['diag.avg'] * clr.binsize \n"
   ]
  },
  {
   "cell_type": "code",
   "execution_count": 3,
   "metadata": {},
   "outputs": [],
   "source": [
    "# f, ax = plt.subplots(1,1,\n",
    "#     figsize=(5,5),)\n",
    "\n",
    "# ax.loglog(\n",
    "#     lb_cvd_inter_agg['s_bp'],\n",
    "#     lb_cvd_inter_agg['balanced.avg'],\n",
    "#     marker='o',\n",
    "#     markersize=5,\n",
    "# )\n",
    "\n",
    "\n",
    "# ax.set(\n",
    "#     xlabel='separation, bp', \n",
    "#     ylabel='IC contact frequency',\n",
    "#     title=\"average interactions between chromosomal arms\")\n",
    "# ax.grid(lw=0.5)\n",
    "# ax.set_aspect(1.0)\n"
   ]
  },
  {
   "cell_type": "markdown",
   "metadata": {},
   "source": [
    "### Averaging interaction frequencies in blocks"
   ]
  },
  {
   "cell_type": "markdown",
   "metadata": {},
   "source": [
    "For *trans* (i.e. inter-chromosomal) interactions, the notion of \"genomic separation\" becomes irrelevant, as loci on different chromosomes are not connected by any polymer chain. Thus, the \"expected\" level of trans interactions is a scalar, the average interaction frequency for a given pair of chromosomes."
   ]
  },
  {
   "cell_type": "code",
   "execution_count": 47,
   "metadata": {},
   "outputs": [],
   "source": [
    "# create pairwise combinations of chromosomes for calculating average interactions:\n",
    "regions = bioframe.core.construction.add_ucsc_name_column(bioframe.from_any(hg38_chromsizes[clr.chromnames]))\n",
    "region_pairs = list(combinations(regions[['chrom', 'start', 'end']].values, 2)) "
   ]
  },
  {
   "cell_type": "code",
   "execution_count": 48,
   "metadata": {},
   "outputs": [],
   "source": [
    "# average contacts, in this case between pairs of chromosomal arms:\n",
    "ac = cooltools.expected.blocksum_asymm(\n",
    "    clr=clr,\n",
    "    regions1=[i[0] for i in region_pairs],\n",
    "    regions2=[i[1] for i in region_pairs],\n",
    "    transforms={'balanced': lambda p: p['count']*p['weight1']*p['weight2']}\n",
    ")\n",
    "\n",
    "# Now we can calculate the average raw interaction counts and normalized contact frequencies.\n",
    "ac[\"balanced.avg\"] = (\n",
    "    ac[\"balanced.sum\"]\n",
    "    / ac[\"n_valid\"]\n",
    ")"
   ]
  },
  {
   "cell_type": "code",
   "execution_count": 49,
   "metadata": {},
   "outputs": [],
   "source": [
    "# pivot a table to generate a pair-wise average interaction heatmap:\n",
    "acp = (ac \n",
    "    .pivot_table(values=\"balanced.avg\",\n",
    "                 index=\"region1\",\n",
    "                 columns=\"region2\",\n",
    "                 observed=True) \n",
    "    .reindex(index=regions.name,\n",
    "             columns=regions.name)\n",
    ")"
   ]
  },
  {
   "cell_type": "code",
   "execution_count": 50,
   "metadata": {},
   "outputs": [
    {
     "data": {
      "image/png": "[encoded data removed]",
      "text/plain": [
       "<Figure size 432x396 with 2 Axes>"
      ]
     },
     "metadata": {
      "needs_background": "light"
     },
     "output_type": "display_data"
    }
   ],
   "source": [
    "f, axs = plt.subplots(\n",
    "    figsize=(6.0,5.5),\n",
    "    ncols=2,\n",
    "    gridspec_kw={'width_ratios':[20,1],\"wspace\":0.1},\n",
    ")\n",
    "# assign heatmap and colobar axis:\n",
    "ax, cax = axs\n",
    "# draw a heatmap, using log-scale for interaction freq-s:\n",
    "acpm = ax.imshow(\n",
    "    acp,\n",
    "    cmap=\"YlOrRd\",\n",
    "    norm=colors.LogNorm(),\n",
    "    aspect=1.0\n",
    ")\n",
    "# assign ticks and labels (ordered names of chromosome arms):\n",
    "ax.set(\n",
    "    xticks=range(len(regions)),\n",
    "    yticks=range(len(regions)),\n",
    "    title=\"average interactions\\nbetween chromosomes\",\n",
    ")\n",
    "ax.set_xticklabels(\n",
    "    regions.name,\n",
    "    rotation=30,\n",
    "    horizontalalignment='right',\n",
    "    fontsize=10\n",
    ")\n",
    "ax.set_yticklabels(\n",
    "    regions.name,\n",
    "    fontsize=10\n",
    ")\n",
    "# draw a colorbar of interaction frequencies for the heatmap:\n",
    "f.colorbar(\n",
    "    acpm,\n",
    "    cax=cax,\n",
    "    label='IC contact frequency'\n",
    ")\n",
    "\n",
    "# draw a grid around values:\n",
    "ax.set_xticks(\n",
    "    [x-0.5 for x in range(1,len(regions))],\n",
    "    minor=True\n",
    ")\n",
    "ax.set_yticks(\n",
    "    [y-0.5 for y in range(1,len(regions))],\n",
    "    minor=True\n",
    ")\n",
    "ax.grid(which=\"minor\")\n"
   ]
  },
  {
   "cell_type": "code",
   "execution_count": null,
   "metadata": {},
   "outputs": [],
   "source": []
  }
 ],
 "metadata": {
  "kernelspec": {
   "display_name": "Python 3 (ipykernel)",
   "language": "python",
   "name": "python3"
  },
  "language_info": {
   "codemirror_mode": {
    "name": "ipython",
    "version": 3
   },
   "file_extension": ".py",
   "mimetype": "text/x-python",
   "name": "python",
   "nbconvert_exporter": "python",
   "pygments_lexer": "ipython3",
   "version": "3.8.5"
  }
 },
 "nbformat": 4,
 "nbformat_minor": 4
}
